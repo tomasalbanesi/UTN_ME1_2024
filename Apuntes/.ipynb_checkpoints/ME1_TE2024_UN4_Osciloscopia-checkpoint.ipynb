{
 "cells": [
  {
   "cell_type": "markdown",
   "metadata": {},
   "source": [
    "<img src=\"./img/logo_UTN.svg\" align=\"right\" width=\"200\" /> \n",
    "\n",
    "## Medidas Electrónicas I\n",
    "\n",
    "# Teoría - 2024\n",
    "## Resumen teórico de Unidad N°4 - Osciloscopia\n",
    "### Tomas A. Albanesi"
   ]
  }
 ],
 "metadata": {
  "language_info": {
   "name": "python"
  }
 },
 "nbformat": 4,
 "nbformat_minor": 2
}
