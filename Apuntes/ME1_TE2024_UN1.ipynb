{
 "cells": [
  {
   "cell_type": "markdown",
   "metadata": {},
   "source": [
    "<img src=\"./img/logo_UTN.svg\" align=\"right\" width=\"200\" /> \n",
    "\n",
    "## Medidas Electrónicas I\n",
    "\n",
    "# Teoría - 2024\n",
    "## Resumen teórico de Unidad N°1 - Incertidumbre\n",
    "### Tomas A. Albanesi"
   ]
  }
 ],
 "metadata": {
  "language_info": {
   "name": "python"
  }
 },
 "nbformat": 4,
 "nbformat_minor": 2
}
