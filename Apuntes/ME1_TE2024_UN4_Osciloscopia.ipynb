{
 "cells": [
  {
   "cell_type": "markdown",
   "metadata": {},
   "source": [
    "<img src=\"./img/logo_UTN.svg\" align=\"right\" width=\"200\" /> \n",
    "\n",
    "## Medidas Electrónicas I\n",
    "\n",
    "# Teoría - 2024\n",
    "## Resumen teórico de Unidad N°4 - Osciloscopia\n",
    "### Tomas A. Albanesi"
   ]
  },
  {
   "cell_type": "markdown",
   "metadata": {},
   "source": [
    "### Introducción a DSO\n",
    "\n",
    "En primer lugar vamos a analizar un DSO (Digital Storage Oscilloscope).\n",
    "\n",
    "Las caracteristicas adicionales a tener en cuenta, en comparación con los analógicos son las siguientes:\n",
    "\n",
    "* Memoria para almacena las capturas\n",
    "* Persistencia de la pantalla configurable\n",
    "* Mediciones incorporadas:\n",
    "    * Valor Eficaz\n",
    "    * Valor Medio\n",
    "    * Valor Pico\n",
    "    * Frecuencia\n",
    "    * Periodo\n",
    "    * Ancho de Pulso\n",
    "    * Tiempo de Crecimiento (Rise Time)\n",
    "    * Tiempo de Decrecimiento (Fall Time)\n",
    "* Conexion a PC para descarga y análisis de datos Off-Line\n",
    "* Mediciones con Ventana\n",
    "* Visualización de la señal antes y despues del disparo\n",
    "* Cursores en pantalla para tomar medidas de Tiempo y Amplitud\n",
    "* Operaciones matemáticas:\n",
    "    * Suma\n",
    "    * Resta\n",
    "    * Multiplicacion\n",
    "    * FFT\n",
    "* Disparos adicionales:\n",
    "    * Por Ancho de pulso igual que un valor seleccionado\n",
    "    * Por Ancho de pulso distinto que un valor seleccionado\n",
    "    * Por Ancho de pulso mayor que un valor seleccionado\n",
    "    * Por Ancho de pulso menor que en valor seleccionado\n",
    "\n"
   ]
  },
  {
   "cell_type": "markdown",
   "metadata": {},
   "source": [
    "### Diagrama en bloques\n",
    "\n",
    "El diagrama en bloques funcional de un DSO es el siguiente:\n",
    "\n",
    "<img src=\"./img/DSO_DiagramaBloques.png\" align=\"left\" width=\"600\" /> \n",
    "<br><br><br><br><br><br><br><br><br><br><br><br><br><br><br>\n",
    "\n",
    "Hay que destacar la arquitectura serie de un DSO, por la cual los datos productos de la adquisición pasan a traves del microprocesador, generando un \"cuello de botella\" en los tiempos de refresco del display."
   ]
  },
  {
   "cell_type": "markdown",
   "metadata": {},
   "source": [
    "### Especificaciones fundamentales\n",
    "\n",
    "Existen cuatro especificaciones fundamentales en todo DSO:\n",
    "\n",
    "- Bandwidth: Da el ancho de banda del equipo bajo condiciones especificas, y con un sistema de medición compuesto por dicho equipo y alguna punta recomendada por el fabricante para el mismo.\n",
    "\n",
    "- Sample Rate: Especifica la maxima velocidad de muestreo que tiene el equipo, debe considerarse bajo que condiciones se especifica si es que no se da para todas las escalas de tension del equipo.\n",
    "\n",
    "- Record Length: Cantidad de muestras que son almacenadas en la memoria del equipo durante cada captura (un barrido). Tipicamente al usar las B.T. mas rápidas, la cantidad comienza a disminuir.\n",
    "\n",
    "- Acquisition Rate: Cantidad de formas de onda capturadas por segundo. Fundamental para detección de transitorios, y tipicamente se ve deteriorada si se hace uso de funciones de mediciones en cada adquicición."
   ]
  },
  {
   "cell_type": "markdown",
   "metadata": {},
   "source": [
    "### Teoría de Muestreo\n",
    "\n",
    "Dada una señal limitada en frecuencia hasta una $f_{max}$, la frecuencia de muestreo $f_s$ debe ser mayor que dos veces $f_{max}$ para que a partir de las muestras pueda reconstruirse posteriormente la señal original sin efecto de Alias (Teorema de Nyquist).\n",
    "\n",
    "Cuando no se cumple esto aparece el efecto de Alias.\n",
    "\n",
    "<img src=\"./img/EfectoAlias.png\" align=\"left\" width=\"600\" /> \n",
    "<br><br><br><br><br><br><br><br><br><br>\n",
    "\n",
    "La señal muestreada resultante, presenta una repetición del espectro original espaciados por $f_s$.\n",
    "\n",
    "A medida que aumenta $f_s$, la repetición del espectro de la señal original se distancia cada vez mas facilitando el filtrado del espectro que queda en el origen para recuperar la señal.\n",
    "\n",
    "La siguiente imagen muestra el efecto de Alias en los flancos de la señal:\n",
    "\n",
    "<img src=\"./img/EfectoAliasSignal.png\" align=\"left\" width=\"600\" /> \n",
    "<br><br><br><br><br><br><br><br><br><br>"
   ]
  },
  {
   "cell_type": "code",
   "execution_count": null,
   "metadata": {},
   "outputs": [],
   "source": []
  }
 ],
 "metadata": {
  "kernelspec": {
   "display_name": "Python 3 (ipykernel)",
   "language": "python",
   "name": "python3"
  },
  "language_info": {
   "codemirror_mode": {
    "name": "ipython",
    "version": 3
   },
   "file_extension": ".py",
   "mimetype": "text/x-python",
   "name": "python",
   "nbconvert_exporter": "python",
   "pygments_lexer": "ipython3",
   "version": "3.12.4"
  }
 },
 "nbformat": 4,
 "nbformat_minor": 4
}
