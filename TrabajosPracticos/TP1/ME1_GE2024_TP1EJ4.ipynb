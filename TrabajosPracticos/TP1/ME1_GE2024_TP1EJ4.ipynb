{
 "cells": [
  {
   "cell_type": "markdown",
   "id": "4232468e-2dab-40c0-b452-08109818ba29",
   "metadata": {},
   "source": [
    "<img src=\"./img/logo_UTN.svg\" align=\"right\" width=\"200\" /> \n",
    "\n",
    "## Medidas Electrónicas I\n",
    "\n",
    "# Guia de Ejercicios - 2024\n",
    "## Trabajo Práctico N°1 - Ejercicio N°4\n",
    "### Tomas A. Albanesi"
   ]
  },
  {
   "cell_type": "markdown",
   "id": "5d0a8fdb-2f6a-4968-ae95-64aba43b1b62",
   "metadata": {},
   "source": [
    "## Indice de contenidos:\n",
    "* [1. Consigna](#1)\n",
    "* [2. Inicializaciones de código](#2)\n",
    "* [3. Resolución analítica y numérica](#3)\n",
    "* [4. Conclusiones](#4)"
   ]
  },
  {
   "cell_type": "markdown",
   "id": "b98061ae-ec12-49d4-8646-19c8f3149b04",
   "metadata": {},
   "source": [
    "## 1. Consigna <a class=\"anchor\" id=\"1\"></a>\n",
    "\n",
    "<img src=\"./img/ConsignaEjercicio4.png\" align=\"left\" width=\"600\" /> "
   ]
  },
  {
   "cell_type": "markdown",
   "id": "1538e1cc-3402-407b-adba-29d1014fca9f",
   "metadata": {},
   "source": [
    "## 2. Inicializaciones de código <a class=\"anchor\" id=\"2\"></a>"
   ]
  },
  {
   "cell_type": "code",
   "execution_count": 8,
   "id": "33882fa4-8eb9-46c8-af49-f9deb2441be8",
   "metadata": {},
   "outputs": [],
   "source": [
    "# Importación de librerías\n",
    "from IPython.display import display, Math, Markdown\n",
    "import numpy as np\n",
    "import sympy as sp\n",
    "\n",
    "# Funciones útiles\n",
    "def print_latex(unstr):\n",
    "    if not isinstance(unstr, str):\n",
    "        raise ValueError(\"unstr debe ser una cadena.\")   \n",
    "    display(Math(unstr))\n",
    "\n",
    "def print_subtitle(unstr):\n",
    "    if not isinstance(unstr, str):\n",
    "        raise ValueError(\"unstr debe ser una cadena.\") \n",
    "    display(Markdown('#### ' + unstr))\n",
    "\n",
    "def to_latex(unsimbolo):\n",
    "    if not isinstance(unsimbolo, (sp.Expr, str)):\n",
    "        raise ValueError(\"unsimbolo debe ser un símbolo o una cadena.\")\n",
    "    a_str = sp.latex(unsimbolo) if isinstance(unsimbolo, sp.Expr) else unsimbolo  \n",
    "    return '$' + a_str + '$'\n",
    "\n",
    "# Datos de la medición\n",
    "N = 20 # en número de mediciones\n",
    "A = 100.145 # en Volts [V]\n",
    "S = 1.489 # en Volts [V]"
   ]
  },
  {
   "cell_type": "markdown",
   "id": "872f2b1f-9c10-4d3a-a9d4-b41c26b74e7f",
   "metadata": {},
   "source": [
    "## 3. Resolución analítica y numérica <a class=\"anchor\" id=\"3\"></a>"
   ]
  },
  {
   "cell_type": "markdown",
   "id": "8e10d843-6ec5-4c83-b198-426dc7d5a502",
   "metadata": {},
   "source": [
    "En primer lugar realizamos la evaluación de incertidumbre tipo A:\n",
    "\n",
    "$$\n",
    "u_i = \\frac{S}{\\sqrt{N}}\n",
    "$$\n",
    "\n",
    "donde $S$ es la desviación estándar y $N$ es el número de muestras o mediciones."
   ]
  },
  {
   "cell_type": "code",
   "execution_count": 37,
   "id": "88d239e3-0e1c-4d6b-a251-531dddd1c03b",
   "metadata": {},
   "outputs": [
    {
     "data": {
      "text/markdown": [
       "#### La evaluación de incertidumbre tipo A es: "
      ],
      "text/plain": [
       "<IPython.core.display.Markdown object>"
      ]
     },
     "metadata": {},
     "output_type": "display_data"
    },
    {
     "data": {
      "text/latex": [
       "$\\displaystyle u_i = $"
      ],
      "text/plain": [
       "<IPython.core.display.Math object>"
      ]
     },
     "metadata": {},
     "output_type": "display_data"
    }
   ],
   "source": [
    "u_i = S / np.sqrt(N)\n",
    "print_subtitle(f'La evaluación de incertidumbre tipo A es: ')\n",
    "print_latex(to_latex('u_i = '))"
   ]
  },
  {
   "cell_type": "markdown",
   "id": "76ddc48b-d318-4fbf-b9ce-c001284a2d98",
   "metadata": {},
   "source": [
    "## 4. Conclusiones <a class=\"anchor\" id=\"4\"></a>"
   ]
  },
  {
   "cell_type": "markdown",
   "id": "3437b7e4-d967-4ff9-aef2-b5ec3ecf078f",
   "metadata": {},
   "source": [
    "A completar ..."
   ]
  }
 ],
 "metadata": {
  "kernelspec": {
   "display_name": "Python 3 (ipykernel)",
   "language": "python",
   "name": "python3"
  },
  "language_info": {
   "codemirror_mode": {
    "name": "ipython",
    "version": 3
   },
   "file_extension": ".py",
   "mimetype": "text/x-python",
   "name": "python",
   "nbconvert_exporter": "python",
   "pygments_lexer": "ipython3",
   "version": "3.11.7"
  }
 },
 "nbformat": 4,
 "nbformat_minor": 5
}
