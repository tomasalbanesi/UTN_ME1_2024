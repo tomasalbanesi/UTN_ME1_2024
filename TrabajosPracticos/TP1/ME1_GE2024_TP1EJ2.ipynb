{
 "cells": [
  {
   "cell_type": "markdown",
   "id": "4232468e-2dab-40c0-b452-08109818ba29",
   "metadata": {},
   "source": [
    "<img src=\"./img/logo_UTN.svg\" align=\"right\" width=\"200\" /> \n",
    "\n",
    "## Medidas Electrónicas I\n",
    "\n",
    "# Guia de Ejercicios - 2024\n",
    "## Trabajo Práctico N°1 - Ejercicio N°2\n",
    "### Tomas A. Albanesi"
   ]
  },
  {
   "cell_type": "markdown",
   "id": "5d0a8fdb-2f6a-4968-ae95-64aba43b1b62",
   "metadata": {},
   "source": [
    "## Indice de contenidos:\n",
    "* [1. Consigna](#1)\n",
    "* [2. Inicializaciones de código](#2)\n",
    "* [3. Resolución analítica y numérica Item A)](#3)\n",
    "* [4. Resolución analítica y numérica Item B)](#4)"
   ]
  },
  {
   "cell_type": "markdown",
   "id": "b98061ae-ec12-49d4-8646-19c8f3149b04",
   "metadata": {},
   "source": [
    "## 1. Consigna <a class=\"anchor\" id=\"1\"></a>\n",
    "\n",
    "<img src=\"./img/ConsignaEjercicio2.png\" align=\"left\" width=\"600\" /> "
   ]
  },
  {
   "cell_type": "markdown",
   "id": "1538e1cc-3402-407b-adba-29d1014fca9f",
   "metadata": {},
   "source": [
    "## 2. Inicializaciones de código <a class=\"anchor\" id=\"2\"></a>"
   ]
  },
  {
   "cell_type": "code",
   "execution_count": 1,
   "id": "33882fa4-8eb9-46c8-af49-f9deb2441be8",
   "metadata": {},
   "outputs": [],
   "source": [
    "# Importación de librerías\n",
    "from IPython.display import display, Math, Markdown\n",
    "import numpy as np\n",
    "import sympy as sp\n",
    "\n",
    "# Funciones útiles\n",
    "def print_latex(unstr):\n",
    "    if not isinstance(unstr, str):\n",
    "        raise ValueError(\"unstr debe ser una cadena.\")   \n",
    "    display(Math(unstr))\n",
    "\n",
    "def print_subtitle(unstr):\n",
    "    if not isinstance(unstr, str):\n",
    "        raise ValueError(\"unstr debe ser una cadena.\") \n",
    "    display(Markdown('#### ' + unstr))\n",
    "\n",
    "def to_latex(unsimbolo):\n",
    "    if not isinstance(unsimbolo, (sp.Expr, str)):\n",
    "        raise ValueError(\"unsimbolo debe ser un símbolo o una cadena.\")\n",
    "    a_str = sp.latex(unsimbolo) if isinstance(unsimbolo, sp.Expr) else unsimbolo  \n",
    "    return '$' + a_str + '$'\n",
    "\n",
    "# Definicion de clases\n",
    "class Uncertainty(object):\n",
    "\n",
    "    def __init__(self, dat, err):\n",
    "        self.samples = dat\n",
    "        self.data = np.array(dat)\n",
    "        self.mean = np.mean(self.data)\n",
    "        self.std = np.std(self.data)\n",
    "        self.instrumentError = err\n",
    "\n",
    "    def printAll(self):\n",
    "        print()\n",
    "        print_subtitle('Datos de Incertidumbre:')\n",
    "        print_latex(to_latex('Media = %0.2f' % self.mean))\n",
    "        print_latex(to_latex('Desviación estándar = %0.2f' % self.std))\n",
    "        print_latex(to_latex('Incertidumbre Tipo A = %0.2f' % self.uncertaintyTypeA()))\n",
    "        print_latex(to_latex('Incertidumbre Tipo B = %0.2f' % self.uncertaintyTypeB()))\n",
    "        print_latex(to_latex('Incertidumbre Combinada = %0.2f' % self.uncertaintyCombined()))\n",
    "\n",
    "    def mean():\n",
    "        return self.mean\n",
    "\n",
    "    def UncertaintyTypeA(self):\n",
    "        return self.std / np.sqrt(self.data.size)\n",
    "\n",
    "    def UncertaintyTypeB(self):\n",
    "        return ((self.instrumentError/100.0)/np.sqrt(3))*self.mean # Distribuacion tipo Rectangular\n",
    "\n",
    "    def UncertaintyCombined(self):\n",
    "        return np.sqrt(self.uncertaintyTypeA()**2 + self.uncertaintyTypeB()**2)"
   ]
  },
  {
   "cell_type": "markdown",
   "id": "872f2b1f-9c10-4d3a-a9d4-b41c26b74e7f",
   "metadata": {},
   "source": [
    "## 3. Resolución analítica y numérica Item A) <a class=\"anchor\" id=\"3\"></a>"
   ]
  },
  {
   "cell_type": "markdown",
   "id": "8e10d843-6ec5-4c83-b198-426dc7d5a502",
   "metadata": {},
   "source": [
    "Debe tenerse en cuenta la correlacion entre las magnitudes de entrada cuando estas existan y sean de un valor significativo. Un coeficiente de correlacion igual a cero indica una correlacion lineal nula."
   ]
  },
  {
   "cell_type": "markdown",
   "id": "76ddc48b-d318-4fbf-b9ce-c001284a2d98",
   "metadata": {},
   "source": [
    "## 4. Resolución analítica y numérica Item B) <a class=\"anchor\" id=\"4\"></a>"
   ]
  },
  {
   "cell_type": "code",
   "execution_count": 2,
   "id": "ec0672be-68d7-40e6-99c1-ee04e3a81502",
   "metadata": {},
   "outputs": [],
   "source": [
    "# Datos del problema\n",
    "\n",
    "# Datos de tension\n",
    "v_mean = 4.999 # En Volt [V]\n",
    "v_std = 0.0032 # En Volt [V]\n",
    "\n",
    "# Datos de corriente\n",
    "i_mean = 19.6610e-3 # En Ampere [A]\n",
    "i_std = 0.0095e-3 # En Ampere [A]\n",
    "\n",
    "# Datos de fase\n",
    "phi_mean = 1.04446 # En Radianes [rad]\n",
    "phi_std = 0.00075 # En Radianes [rad]\n",
    "\n",
    "# Datos de correlacion\n",
    "r_v_i = -0.36\n",
    "r_v_phi = 0.86\n",
    "r_i_phi = -0.65"
   ]
  },
  {
   "cell_type": "markdown",
   "id": "83e12325-edbc-41c7-879b-a0961783028c",
   "metadata": {},
   "source": [
    "### Evaluación de Incertidumbre Tipo A de $V$, $I$ y $\\phi$"
   ]
  },
  {
   "cell_type": "code",
   "execution_count": null,
   "id": "0d13dc57-2263-45f5-a6dd-dcea486ef3b3",
   "metadata": {},
   "outputs": [],
   "source": []
  },
  {
   "cell_type": "markdown",
   "id": "a5a0b7e0-6616-4861-a0a7-02dcc8064f2b",
   "metadata": {},
   "source": [
    "### Evaluación de Incertidumbre Combinada de $V$, $I$ y $\\phi$"
   ]
  }
 ],
 "metadata": {
  "kernelspec": {
   "display_name": "Python 3 (ipykernel)",
   "language": "python",
   "name": "python3"
  },
  "language_info": {
   "codemirror_mode": {
    "name": "ipython",
    "version": 3
   },
   "file_extension": ".py",
   "mimetype": "text/x-python",
   "name": "python",
   "nbconvert_exporter": "python",
   "pygments_lexer": "ipython3",
   "version": "3.11.7"
  }
 },
 "nbformat": 4,
 "nbformat_minor": 5
}
