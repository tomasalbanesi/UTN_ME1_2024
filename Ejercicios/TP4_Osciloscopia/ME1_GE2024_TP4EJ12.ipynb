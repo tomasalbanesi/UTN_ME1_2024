{
 "cells": [
  {
   "cell_type": "markdown",
   "id": "4232468e-2dab-40c0-b452-08109818ba29",
   "metadata": {},
   "source": [
    "<img src=\"./img/logo_UTN.svg\" align=\"right\" width=\"200\" /> \n",
    "\n",
    "## Medidas Electrónicas I\n",
    "\n",
    "# Guia de Ejercicios - 2024\n",
    "## Trabajo Práctico N°4 - Osciloscopia - Ejercicio N°12\n",
    "### Tomas A. Albanesi"
   ]
  },
  {
   "cell_type": "markdown",
   "id": "5d0a8fdb-2f6a-4968-ae95-64aba43b1b62",
   "metadata": {},
   "source": [
    "## Indice de contenidos:\n",
    "* [1. Consigna](#1)\n",
    "* [2. Inicializaciones de código](#2)\n",
    "* [3. Resolución analítica y numérica](#3)"
   ]
  },
  {
   "cell_type": "markdown",
   "id": "b98061ae-ec12-49d4-8646-19c8f3149b04",
   "metadata": {},
   "source": [
    "## 1. Consigna <a class=\"anchor\" id=\"1\"></a>\n",
    "\n",
    "<img src=\"./img/TP4EJ12_Consigna.png\" align=\"left\" width=\"600\" /> "
   ]
  },
  {
   "cell_type": "markdown",
   "id": "1538e1cc-3402-407b-adba-29d1014fca9f",
   "metadata": {},
   "source": [
    "## 2. Inicializaciones de código <a class=\"anchor\" id=\"2\"></a>"
   ]
  },
  {
   "cell_type": "code",
   "execution_count": 3,
   "id": "33882fa4-8eb9-46c8-af49-f9deb2441be8",
   "metadata": {},
   "outputs": [],
   "source": [
    "# Importación de librerías\n",
    "from IPython.display import display, Math, Markdown\n",
    "import numpy as np\n",
    "import sympy as sp\n",
    "\n",
    "# Funciones útiles\n",
    "def print_latex(unstr):\n",
    "    if not isinstance(unstr, str):\n",
    "        raise ValueError(\"unstr debe ser una cadena.\")   \n",
    "    display(Math(unstr))\n",
    "\n",
    "def print_subtitle(unstr):\n",
    "    if not isinstance(unstr, str):\n",
    "        raise ValueError(\"unstr debe ser una cadena.\") \n",
    "    display(Markdown('#### ' + unstr))\n",
    "\n",
    "def to_latex(unsimbolo):\n",
    "    if not isinstance(unsimbolo, (sp.Expr, str)):\n",
    "        raise ValueError(\"unsimbolo debe ser un símbolo o una cadena.\")\n",
    "    a_str = sp.latex(unsimbolo) if isinstance(unsimbolo, sp.Expr) else unsimbolo  \n",
    "    return '$' + a_str + '$'"
   ]
  },
  {
   "cell_type": "markdown",
   "id": "1543f29c-722e-4f8d-8315-3ab4d00aa9e2",
   "metadata": {},
   "source": [
    "## 3. Resolución analítica y numérica Item A) <a class=\"anchor\" id=\"3\"></a>"
   ]
  },
  {
   "cell_type": "markdown",
   "id": "045e9161",
   "metadata": {},
   "source": [
    "En desarrollo ..."
   ]
  },
  {
   "cell_type": "markdown",
   "id": "9c2bb80a",
   "metadata": {},
   "source": [
    "## 4. Resolución analítica y numérica Item B) <a class=\"anchor\" id=\"4\"></a>"
   ]
  },
  {
   "cell_type": "code",
   "execution_count": 54,
   "id": "492e1492-9548-4ec3-af33-6f56f232777c",
   "metadata": {},
   "outputs": [
    {
     "name": "stdout",
     "output_type": "stream",
     "text": [
      "La impedancia es: 133.33333333333334\n"
     ]
    }
   ],
   "source": [
    "# Datos del problema\n",
    "\n",
    "# Número de divisiones de tensión y corriente\n",
    "DIVISIONES_V = 4 \n",
    "DIVISIONES_I = 3\n",
    "\n",
    "# Escalas de canales 1 y 2\n",
    "FACTOR_CH1 = 1       #1V/div\n",
    "FACTOR_CH2 = 10e-3   #10mV/div\n",
    "\n",
    "# Valores de componentes\n",
    "R = 1\n",
    "\n",
    "# Punta de prueba\n",
    "K = 10\n",
    "\n",
    "# Base de tiempo\n",
    "FBT = 1e-6\n",
    "\n",
    "# Cálculo de tensión y corriente\n",
    "V = DIVISIONES_V * FACTOR_CH1 * K\n",
    "I = DIVISIONES_I * FACTOR_CH2 / R * K\n",
    "\n",
    "# Función de medición (Esto tiene incertidumbre)\n",
    "Z_mod = V/I \n",
    "\n",
    "print(f\"La impedancia es: {Z_mod}\")"
   ]
  },
  {
   "cell_type": "markdown",
   "id": "a640a9b0-463b-43d4-b5d2-6bba04ec6543",
   "metadata": {},
   "source": [
    "La tensión tiene error por lo siguiente:\n",
    "- Lectura del valor\n",
    "- Adquisición a traves del canal\n",
    "- Punta de prueba\n",
    "\n",
    "La corriente tiene error por lo siguiente:\n",
    "- Lectura del valor\n",
    "- Adquisición a traves del canal\n",
    "- Punta de prueba\n",
    "- Resistencia (en este caso no presenta error)\n",
    "\n",
    "<b>El camino relativo lo que haría es: Sumar cuadraticamente las incertidumbres relativas de cada una de las fuentes de incertidumbre.</b>\n",
    "\n",
    "<b>¡ESTE CAMINO RELATIVO FUNCIONA SIEMPRE PARA FUNCIONES DE MEDICIONES QUE SEAN MULTIPLICACIONES O DIVISIONES!</b>"
   ]
  },
  {
   "cell_type": "markdown",
   "id": "af5d87ff-07b4-4e08-9b5c-15699f1bc116",
   "metadata": {},
   "source": [
    "Entonces, ya que en este caso no tenemos incertidumbre tipo A y utilizamos el camino relativo:\n",
    "\n",
    "$$\n",
    "\\begin{equation}\n",
    "u_{c}(V) = \\sqrt{u²_{div{_\\%}} + u²_{fch1{_\\%}} + u²_{k{_\\%}}}\n",
    "\\end{equation}\n",
    "$$"
   ]
  },
  {
   "cell_type": "markdown",
   "id": "a8990238-de2f-4313-9945-bdd919e3e313",
   "metadata": {},
   "source": [
    "Por lo tanto, en primer lugar, planteamos el error de lectura:\n",
    "\n",
    "Si observamos el dibujo, el error que podemos cometer es de una división menor, que son $0,2$ divisiones de la mayor.\n",
    "\n",
    "Entonces planteamos la siguiente regla de tres simple:\n",
    "\n",
    "- Si $4$ divisiones $=$ $100\\%$\n",
    "- Entonces $0.2$ divisiones $=$ $?$"
   ]
  },
  {
   "cell_type": "code",
   "execution_count": 18,
   "id": "845cab21-7dd4-4427-a981-c33c795e99cb",
   "metadata": {},
   "outputs": [],
   "source": [
    "u_divV_p = (0.2 / DIVISIONES_V) / np.sqrt(3)"
   ]
  },
  {
   "cell_type": "markdown",
   "id": "a658d549-0957-434e-904c-94da2dc127d4",
   "metadata": {},
   "source": [
    "Los demas valores directamente son porcentuales:"
   ]
  },
  {
   "cell_type": "code",
   "execution_count": 19,
   "id": "392e6898-5056-4e17-8ca2-8b68fd682af2",
   "metadata": {},
   "outputs": [],
   "source": [
    "u_fch1_p = 0.03/np.sqrt(3)\n",
    "u_k_p = 0.02/np.sqrt(3)"
   ]
  },
  {
   "cell_type": "code",
   "execution_count": 25,
   "id": "525deba8-6ba7-4b93-bfd9-bc6ea3bc186a",
   "metadata": {},
   "outputs": [
    {
     "name": "stdout",
     "output_type": "stream",
     "text": [
      "La incertidumbre combinada relativa de la tensión es: 0.035590260840104374\n"
     ]
    }
   ],
   "source": [
    "uc_V_rel = np.sqrt(u_divV_p**2 + u_fch1_p**2 + u_k_p**2)\n",
    "\n",
    "print(f\"La incertidumbre combinada relativa de la tensión es: {uc_V_rel}\")"
   ]
  },
  {
   "cell_type": "markdown",
   "id": "c1e2be1b-24f4-406b-a7a6-830312b5b489",
   "metadata": {},
   "source": [
    "Hacemos algo parecido con la corriente."
   ]
  },
  {
   "cell_type": "code",
   "execution_count": 21,
   "id": "e0c2e5ca-e47e-4b09-af3d-eabf1df83c6c",
   "metadata": {},
   "outputs": [],
   "source": [
    "u_divI_p = (0.2 / DIVISIONES_I) / np.sqrt(3)\n",
    "u_fch2_p = 0.03/np.sqrt(3)\n",
    "u_k_p = 0.02/np.sqrt(3)\n",
    "u_r = 0.01/np.sqrt(3)"
   ]
  },
  {
   "cell_type": "code",
   "execution_count": 30,
   "id": "5e466773-fff2-4f10-b050-d39bd0dd2d80",
   "metadata": {},
   "outputs": [
    {
     "name": "stdout",
     "output_type": "stream",
     "text": [
      "La incertidumbre combinada relativa de la corriente es: 0.044137831257869346\n"
     ]
    }
   ],
   "source": [
    "uc_I_rel = np.sqrt(u_divI_p**2 + u_fch2_p**2 + u_k_p**2 + u_r**2)\n",
    "\n",
    "print(f\"La incertidumbre combinada relativa de la corriente es: {uc_I_rel}\")"
   ]
  },
  {
   "cell_type": "markdown",
   "id": "e7b0890e-04bd-4884-b50f-c0c5933bfa2f",
   "metadata": {},
   "source": [
    "Ahora podemos calcular la incertidumbre combinada relativa de la impedancia."
   ]
  },
  {
   "cell_type": "code",
   "execution_count": 31,
   "id": "1f973084-74ba-4efc-83c6-5577a31ced81",
   "metadata": {},
   "outputs": [
    {
     "name": "stdout",
     "output_type": "stream",
     "text": [
      "La incertidumbre combinada relativa de la impedancia es: 0.056699336987435886\n"
     ]
    }
   ],
   "source": [
    "uc_Z_rel = np.sqrt(uc_V_rel**2 + uc_I_rel**2)\n",
    "\n",
    "print(f\"La incertidumbre combinada relativa de la impedancia es: {uc_Z_rel}\")"
   ]
  },
  {
   "cell_type": "code",
   "execution_count": 33,
   "id": "88b5cf38-39ad-4db4-b1a9-5282a97f9b68",
   "metadata": {},
   "outputs": [
    {
     "name": "stdout",
     "output_type": "stream",
     "text": [
      "Z = 133, uc(Z) = 15\n"
     ]
    }
   ],
   "source": [
    "print(f\"|Z| = {int(Z_mod)}, uc(Z) = {int(uc_Z_rel * Z * 2)}\")"
   ]
  },
  {
   "cell_type": "markdown",
   "id": "0242e318-b2d9-492a-b568-56f6b8aa5040",
   "metadata": {},
   "source": [
    "Lo que queremos hallar son los componentes.\n",
    "Ya tenemos el módulo de la impedancia $Z$.\n",
    "Nos falta calcular la fase.\n",
    "\n",
    "$\\phi_Z = \\phi_V - \\phi_I$\n",
    "\n",
    "Calculamos por medio del gráfico, las diferencias de fases.\n",
    "\n",
    "Para hacerlo, contamos las divisiones entre los cruces por cero.\n",
    "\n",
    "Podemos contar que hay 8 subdivisiones que equivale a 1,6 divisiones.\n",
    "\n",
    "Ahora podemos utilizar la siguiente fórmula para calcular el desfasaje en grados:\n",
    "\n",
    "$$\n",
    "\\begin{equation}\n",
    "\\phi = \\frac{2 \\cdot \\pi \\cdot \\tau}{T}\n",
    "\\end{equation}\n",
    "$$\n",
    "\n",
    "O directamente aplicar la siguiente regla de tres simple:\n",
    "\n",
    "- Si 10 divisiones = 360°\n",
    "- Entonces -1,6 divisiones = ? (-57,6)\n",
    "\n",
    "El signo menos es debido a que la corriente adelanta a la tensión."
   ]
  },
  {
   "cell_type": "code",
   "execution_count": 41,
   "id": "49598552-90ce-4fc5-be09-002e4c73a930",
   "metadata": {},
   "outputs": [
    {
     "data": {
      "text/plain": [
       "-1.0053096491487339"
      ]
     },
     "execution_count": 41,
     "metadata": {},
     "output_type": "execute_result"
    }
   ],
   "source": [
    "T = 10\n",
    "dT = -1.6\n",
    "\n",
    "Z_phi = (2*np.pi*dT)/T\n",
    "Z_phi"
   ]
  },
  {
   "cell_type": "code",
   "execution_count": 46,
   "id": "2bc65304-2918-468e-a47d-f58435a6dfac",
   "metadata": {},
   "outputs": [
    {
     "data": {
      "text/plain": [
       "np.float64(0.07708220719898119)"
      ]
     },
     "execution_count": 46,
     "metadata": {},
     "output_type": "execute_result"
    }
   ],
   "source": [
    "# Fuente de error\n",
    "err_lectura_dT = (0.2/1.6) / np.sqrt(3)\n",
    "err_lectura_horizontal = 0.03 / np.sqrt(3)\n",
    "err_lectura_T = (0.2/10) / np.sqrt(3)\n",
    "\n",
    "# Incertidumbre\n",
    "uc_dT = np.sqrt(err_lectura_dT**2 + err_lectura_horizontal**2)\n",
    "uc_T = np.sqrt(err_lectura_T**2 + err_lectura_horizontal**2)\n",
    "\n",
    "# Incertidumbre combinada de la fase de la impedancia\n",
    "uc_Z_phi = np.sqrt(uc_dT**2 + uc_T**2)\n",
    "uc_Z_phi"
   ]
  },
  {
   "cell_type": "code",
   "execution_count": 56,
   "id": "8bad116a-294b-432b-b96b-9d61567d60e8",
   "metadata": {},
   "outputs": [
    {
     "data": {
      "text/plain": [
       "np.float64(-112.57705673360202)"
      ]
     },
     "execution_count": 56,
     "metadata": {},
     "output_type": "execute_result"
    }
   ],
   "source": [
    "Xc = Z_mod * np.sin(Z_phi)\n",
    "Xc"
   ]
  },
  {
   "cell_type": "code",
   "execution_count": 57,
   "id": "bec65e40-651f-4b21-9b5a-78d262eb268e",
   "metadata": {},
   "outputs": [
    {
     "data": {
      "text/plain": [
       "np.float64(1.4137422642742686e-08)"
      ]
     },
     "execution_count": 57,
     "metadata": {},
     "output_type": "execute_result"
    }
   ],
   "source": [
    "C = 1 / (np.abs(Xc) * 2 * np.pi * (1/(T * FBT)))\n",
    "C"
   ]
  }
 ],
 "metadata": {
  "kernelspec": {
   "display_name": "Python 3 (ipykernel)",
   "language": "python",
   "name": "python3"
  },
  "language_info": {
   "codemirror_mode": {
    "name": "ipython",
    "version": 3
   },
   "file_extension": ".py",
   "mimetype": "text/x-python",
   "name": "python",
   "nbconvert_exporter": "python",
   "pygments_lexer": "ipython3",
   "version": "3.12.4"
  }
 },
 "nbformat": 4,
 "nbformat_minor": 5
}
