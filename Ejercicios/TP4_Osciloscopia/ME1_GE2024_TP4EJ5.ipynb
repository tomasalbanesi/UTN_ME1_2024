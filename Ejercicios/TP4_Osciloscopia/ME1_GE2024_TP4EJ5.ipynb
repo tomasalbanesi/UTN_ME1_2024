{
 "cells": [
  {
   "cell_type": "markdown",
   "id": "4232468e-2dab-40c0-b452-08109818ba29",
   "metadata": {},
   "source": [
    "<img src=\"./img/logo_UTN.svg\" align=\"right\" width=\"200\" /> \n",
    "\n",
    "## Medidas Electrónicas I\n",
    "\n",
    "# Guia de Ejercicios - 2024\n",
    "## Trabajo Práctico N°4 - Osciloscopia - Ejercicio N°5\n",
    "### Tomas A. Albanesi"
   ]
  },
  {
   "cell_type": "markdown",
   "id": "5d0a8fdb-2f6a-4968-ae95-64aba43b1b62",
   "metadata": {},
   "source": [
    "## Indice de contenidos:\n",
    "* [1. Consigna](#1)\n",
    "* [2. Inicializaciones de código](#2)\n",
    "* [3. Resolución analítica y numérica Item A)](#3)"
   ]
  },
  {
   "cell_type": "markdown",
   "id": "b98061ae-ec12-49d4-8646-19c8f3149b04",
   "metadata": {},
   "source": [
    "## 1. Consigna <a class=\"anchor\" id=\"1\"></a>\n",
    "\n",
    "<img src=\"./img/TP4EJ5_ConsignaA.png\" align=\"left\" width=\"700\" />\n",
    "<img src=\"./img/TP4EJ5_ConsignaB.png\" align=\"left\" width=\"700\" /> "
   ]
  },
  {
   "cell_type": "markdown",
   "id": "1538e1cc-3402-407b-adba-29d1014fca9f",
   "metadata": {},
   "source": [
    "## 2. Inicializaciones de código <a class=\"anchor\" id=\"2\"></a>"
   ]
  },
  {
   "cell_type": "code",
   "execution_count": 2,
   "id": "33882fa4-8eb9-46c8-af49-f9deb2441be8",
   "metadata": {},
   "outputs": [],
   "source": [
    "# Importación de librerías\n",
    "from IPython.display import display, Math, Markdown\n",
    "import numpy as np\n",
    "import sympy as sp\n",
    "\n",
    "# Funciones útiles\n",
    "def print_latex(unstr):\n",
    "    if not isinstance(unstr, str):\n",
    "        raise ValueError(\"unstr debe ser una cadena.\")   \n",
    "    display(Math(unstr))\n",
    "\n",
    "def print_subtitle(unstr):\n",
    "    if not isinstance(unstr, str):\n",
    "        raise ValueError(\"unstr debe ser una cadena.\") \n",
    "    display(Markdown('#### ' + unstr))\n",
    "\n",
    "def to_latex(unsimbolo):\n",
    "    if not isinstance(unsimbolo, (sp.Expr, str)):\n",
    "        raise ValueError(\"unsimbolo debe ser un símbolo o una cadena.\")\n",
    "    a_str = sp.latex(unsimbolo) if isinstance(unsimbolo, sp.Expr) else unsimbolo  \n",
    "    return '$' + a_str + '$'"
   ]
  },
  {
   "cell_type": "markdown",
   "id": "1543f29c-722e-4f8d-8315-3ab4d00aa9e2",
   "metadata": {},
   "source": [
    "## 3. Resolución analítica y numérica Item A) <a class=\"anchor\" id=\"3\"></a>"
   ]
  },
  {
   "cell_type": "code",
   "execution_count": null,
   "id": "d2a73cb9-ba34-4b61-aa12-bf2fc25db0ac",
   "metadata": {},
   "outputs": [],
   "source": []
  }
 ],
 "metadata": {
  "kernelspec": {
   "display_name": "Python 3 (ipykernel)",
   "language": "python",
   "name": "python3"
  },
  "language_info": {
   "codemirror_mode": {
    "name": "ipython",
    "version": 3
   },
   "file_extension": ".py",
   "mimetype": "text/x-python",
   "name": "python",
   "nbconvert_exporter": "python",
   "pygments_lexer": "ipython3",
   "version": "3.12.4"
  }
 },
 "nbformat": 4,
 "nbformat_minor": 5
}
