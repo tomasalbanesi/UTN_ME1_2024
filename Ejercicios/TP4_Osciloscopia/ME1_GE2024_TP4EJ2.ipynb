{
 "cells": [
  {
   "cell_type": "markdown",
   "id": "4232468e-2dab-40c0-b452-08109818ba29",
   "metadata": {},
   "source": [
    "<img src=\"./img/logo_UTN.svg\" align=\"right\" width=\"200\" /> \n",
    "\n",
    "## Medidas Electrónicas I\n",
    "\n",
    "# Guia de Ejercicios - 2024\n",
    "## Trabajo Práctico N°4 - Osciloscopia - Ejercicio N°2\n",
    "### Tomas A. Albanesi"
   ]
  },
  {
   "cell_type": "markdown",
   "id": "5d0a8fdb-2f6a-4968-ae95-64aba43b1b62",
   "metadata": {},
   "source": [
    "## Indice de contenidos:\n",
    "* [1. Consigna](#1)\n",
    "* [2. Inicializaciones de código](#2)\n",
    "* [3. Resolución analítica y numérica Item A)](#3)"
   ]
  },
  {
   "cell_type": "markdown",
   "id": "b98061ae-ec12-49d4-8646-19c8f3149b04",
   "metadata": {},
   "source": [
    "## 1. Consigna <a class=\"anchor\" id=\"1\"></a>\n",
    "\n",
    "<img src=\"./img/TP4EJ2_Consigna.png\" align=\"left\" width=\"800\" /> "
   ]
  },
  {
   "cell_type": "markdown",
   "id": "1538e1cc-3402-407b-adba-29d1014fca9f",
   "metadata": {},
   "source": [
    "## 2. Inicializaciones de código <a class=\"anchor\" id=\"2\"></a>"
   ]
  },
  {
   "cell_type": "code",
   "execution_count": 2,
   "id": "33882fa4-8eb9-46c8-af49-f9deb2441be8",
   "metadata": {},
   "outputs": [],
   "source": [
    "# Importación de librerías\n",
    "from IPython.display import display, Math, Markdown\n",
    "import numpy as np\n",
    "import sympy as sp\n",
    "\n",
    "# Funciones útiles\n",
    "def print_latex(unstr):\n",
    "    if not isinstance(unstr, str):\n",
    "        raise ValueError(\"unstr debe ser una cadena.\")   \n",
    "    display(Math(unstr))\n",
    "\n",
    "def print_subtitle(unstr):\n",
    "    if not isinstance(unstr, str):\n",
    "        raise ValueError(\"unstr debe ser una cadena.\") \n",
    "    display(Markdown('#### ' + unstr))\n",
    "\n",
    "def to_latex(unsimbolo):\n",
    "    if not isinstance(unsimbolo, (sp.Expr, str)):\n",
    "        raise ValueError(\"unsimbolo debe ser un símbolo o una cadena.\")\n",
    "    a_str = sp.latex(unsimbolo) if isinstance(unsimbolo, sp.Expr) else unsimbolo  \n",
    "    return '$' + a_str + '$'"
   ]
  },
  {
   "cell_type": "markdown",
   "id": "1543f29c-722e-4f8d-8315-3ab4d00aa9e2",
   "metadata": {},
   "source": [
    "## 3. Resolución analítica y numérica Item A) <a class=\"anchor\" id=\"3\"></a>"
   ]
  },
  {
   "cell_type": "markdown",
   "id": "1f6eada7-7621-4834-b825-6869b081d0e1",
   "metadata": {},
   "source": [
    "La constante del valor eficaz para un valor pico es:\n",
    "\n",
    "$$\n",
    "\\begin{equation}\n",
    "K_{RMS} = \\frac{1}{\\sqrt{2}}\n",
    "\\end{equation}\n",
    "$$"
   ]
  },
  {
   "cell_type": "markdown",
   "id": "b1896238-31f8-46ca-8505-9e7af07b8e4c",
   "metadata": {},
   "source": [
    "Y la potencia aparente del generador es:\n",
    "\n",
    "$$\n",
    "\\begin{equation}\n",
    "S_g = V_p \\cdot K_{RMS} \\cdot I_{RMS}\n",
    "\\end{equation}\n",
    "$$"
   ]
  },
  {
   "cell_type": "code",
   "execution_count": 3,
   "id": "a43f9d53-030a-41d4-9dc1-95bf8c7077df",
   "metadata": {},
   "outputs": [
    {
     "name": "stdout",
     "output_type": "stream",
     "text": [
      "El valor de la potencia aparente del generador es: 0.09779286783809951 VA\n"
     ]
    }
   ],
   "source": [
    "V_p = 5\n",
    "I_RMS = 27.66e-3\n",
    "K_RMS = 1 / np.sqrt(2)\n",
    "\n",
    "S_g = V_p * K_RMS * I_RMS\n",
    "\n",
    "print(f\"El valor de la potencia aparente del generador es: {S_g} VA\")"
   ]
  },
  {
   "cell_type": "markdown",
   "id": "c7aef62c-27d3-40bd-bf72-e41036428936",
   "metadata": {},
   "source": [
    "Según la imagen de la consigna, la potencia activa del osciloscopio es:\n",
    "\n",
    "$$\n",
    "\\begin{equation}\n",
    "P_{pp_g} = V_p⁺ - V_p⁻ = 195~mW\n",
    "\\end{equation}\n",
    "$$\n"
   ]
  },
  {
   "cell_type": "markdown",
   "id": "daca4688-97f5-46f9-bbb6-677391473481",
   "metadata": {},
   "source": [
    "Siendo la constante del valor eficaz para un valor pico a pico:\n",
    "\n",
    "$$\n",
    "\\begin{equation}\n",
    "K_{RMS} = \\frac{1}{2\\sqrt{2}}\n",
    "\\end{equation}\n",
    "$$"
   ]
  },
  {
   "cell_type": "markdown",
   "id": "f8793ef2-781b-408c-b5fe-380bd289a5ba",
   "metadata": {},
   "source": [
    "Por lo tanto podemos conocer la potencia activa eficaz:\n",
    "\n",
    "$$\n",
    "\\begin{equation}\n",
    "P_g = P_{{pp}_g} \\cdot K_{RMS}\n",
    "\\end{equation}\n",
    "$$"
   ]
  },
  {
   "cell_type": "markdown",
   "id": "e2bbd22c-f711-47e3-a7de-2f1fb25cb406",
   "metadata": {},
   "source": [
    "El valor de la resistencia será:\n",
    "\n",
    "$$\n",
    "\\begin{equation}\n",
    "P_g = V_{RMS} \\cdot I_{RMS}\n",
    "\\end{equation}\n",
    "$$\n",
    "\n",
    "$$\n",
    "\\begin{equation}\n",
    "V_{RMS} = I_{RMS} \\cdot R\n",
    "\\end{equation}\n",
    "$$\n",
    "\n",
    "$$\n",
    "\\begin{equation}\n",
    "P_g = I_{RMS} \\cdot R \\cdot I_{RMS}\n",
    "\\end{equation}\n",
    "$$\n",
    "\n",
    "$$\n",
    "\\begin{equation}\n",
    "R = \\frac{P_g}{I^2_{RMS}}\n",
    "\\end{equation}\n",
    "$$"
   ]
  },
  {
   "cell_type": "code",
   "execution_count": 7,
   "id": "473812b4-159b-45f0-b5e2-943a5c7be09c",
   "metadata": {},
   "outputs": [
    {
     "name": "stdout",
     "output_type": "stream",
     "text": [
      "El valor de la potencia aparente del generador es: 0.06894291116568838 W\n",
      "El valor de la resistencia es: 90.11254726420287 ohms\n"
     ]
    }
   ],
   "source": [
    "P_pp_g = 195e-3\n",
    "K_RMS = 1 / (2 * np.sqrt(2) )\n",
    "\n",
    "P_g = P_pp_g * K_RMS\n",
    "R = P_g / I_RMS ** 2\n",
    "\n",
    "print(f\"El valor de la potencia aparente del generador es: {P_g} W\")\n",
    "print(f\"El valor de la resistencia es: {R} ohms\")"
   ]
  },
  {
   "cell_type": "markdown",
   "id": "7c28383b-849d-4ed4-9604-92aeae646e62",
   "metadata": {},
   "source": [
    "Por lo tanto, el valor de la resistencia es:\n",
    "\n",
    "$$\n",
    "\\begin{equation}\n",
    "R = 90.11~\\Omega\n",
    "\\end{equation}\n",
    "$$"
   ]
  },
  {
   "cell_type": "markdown",
   "id": "8777bd62-bac1-4798-91a2-1c2360930811",
   "metadata": {},
   "source": [
    "La potencia reactiva es:\n",
    "\n",
    "$$\n",
    "\\begin{equation}\n",
    "Q_g = \\sqrt{S^2_g - P^2_g}\n",
    "\\end{equation}\n",
    "$$"
   ]
  },
  {
   "cell_type": "markdown",
   "id": "ef23f355-82ab-4cb5-a129-17ccb7479f9a",
   "metadata": {},
   "source": [
    "La impedancia capacitiva será:\n",
    "\n",
    "$$\n",
    "\\begin{equation}\n",
    "Z_c = \\frac{Q_g}{I^2_{RMS}}\n",
    "\\end{equation}\n",
    "$$"
   ]
  },
  {
   "cell_type": "markdown",
   "id": "edf5ba42-373d-4c23-9c61-a9fc11888420",
   "metadata": {},
   "source": [
    "Debido a que la frecuencia de la potencia es el doble de la frecuencia de la tension, la velocidad angular de la tension es:\n",
    "\n",
    "$$\n",
    "\\begin{equation}\n",
    "\\omega = \\frac{\\pi}{T}\n",
    "\\end{equation}\n",
    "$$"
   ]
  },
  {
   "cell_type": "markdown",
   "id": "7fdf1506-aa28-4719-ab4e-ac9900029b71",
   "metadata": {},
   "source": [
    "Por lo que la capacidad se puede obtener de la siguiente forma:\n",
    "\n",
    "$$\n",
    "\\begin{equation}\n",
    "C = \\frac{1}{Z_c \\cdot \\omega}\n",
    "\\end{equation}\n",
    "$$"
   ]
  },
  {
   "cell_type": "code",
   "execution_count": 9,
   "id": "0f167f9c-2abb-44c0-bc0e-2e99d6216a26",
   "metadata": {},
   "outputs": [
    {
     "name": "stdout",
     "output_type": "stream",
     "text": [
      "El valor de la potencia reactiva es: 0.06935647049843295 VAR\n",
      "El valor de la impedancia capacitiva es: 90.65309428039915 ohms\n",
      "El valor de la velocidad angular es: 6283.185307179586 1/s\n",
      "El valor de la capacidad es: 1.7556482142751033e-06 F\n"
     ]
    }
   ],
   "source": [
    "T = 0.5e-3\n",
    "\n",
    "Q_g = np.sqrt( S_g ** 2 - P_g ** 2 )\n",
    "Z_c = Q_g / I_RMS ** 2\n",
    "w = np.pi / T\n",
    "C = 1 / (Z_c * w)\n",
    "\n",
    "print(f\"El valor de la potencia reactiva es: {Q_g} VAR\")\n",
    "print(f\"El valor de la impedancia capacitiva es: {Z_c} ohms\")\n",
    "print(f\"El valor de la velocidad angular es: {w} 1/s\")\n",
    "print(f\"El valor de la capacidad es: {C} F\")"
   ]
  },
  {
   "cell_type": "markdown",
   "id": "9e1b0642-e6fe-4801-9508-805f8672e286",
   "metadata": {},
   "source": [
    "Finalmente, el valor del capacitor es:\n",
    "\n",
    "$$\n",
    "C = 1.76 ~ \\mu F\n",
    "$$"
   ]
  }
 ],
 "metadata": {
  "kernelspec": {
   "display_name": "Python 3 (ipykernel)",
   "language": "python",
   "name": "python3"
  },
  "language_info": {
   "codemirror_mode": {
    "name": "ipython",
    "version": 3
   },
   "file_extension": ".py",
   "mimetype": "text/x-python",
   "name": "python",
   "nbconvert_exporter": "python",
   "pygments_lexer": "ipython3",
   "version": "3.12.4"
  }
 },
 "nbformat": 4,
 "nbformat_minor": 5
}
