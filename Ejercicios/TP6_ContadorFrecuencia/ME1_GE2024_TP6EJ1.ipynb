{
 "cells": [
  {
   "cell_type": "markdown",
   "id": "4232468e-2dab-40c0-b452-08109818ba29",
   "metadata": {},
   "source": [
    "<img src=\"./img/logo_UTN.svg\" align=\"right\" width=\"200\" /> \n",
    "\n",
    "## Medidas Electrónicas I\n",
    "\n",
    "# Guia de Ejercicios - 2024\n",
    "## Trabajo Práctico N°4 - Osciloscopia - Ejercicio N°1\n",
    "### Tomas A. Albanesi"
   ]
  },
  {
   "cell_type": "markdown",
   "id": "5d0a8fdb-2f6a-4968-ae95-64aba43b1b62",
   "metadata": {},
   "source": [
    "## Indice de contenidos:\n",
    "* [1. Consigna](#1)\n",
    "* [2. Inicializaciones de código](#2)\n",
    "* [3. Resolución analítica y numérica Item A)](#3)\n",
    "* [4. Resolución analítica y numérica Item B)](#4)\n",
    "* [5. Resolución analítica y numérica Item C)](#5)"
   ]
  },
  {
   "cell_type": "markdown",
   "id": "b98061ae-ec12-49d4-8646-19c8f3149b04",
   "metadata": {},
   "source": [
    "## 1. Consigna <a class=\"anchor\" id=\"1\"></a>\n",
    "\n",
    "<img src=\"./img/TP4EJ1_Consigna.png\" align=\"left\" width=\"600\" /> "
   ]
  },
  {
   "cell_type": "markdown",
   "id": "1538e1cc-3402-407b-adba-29d1014fca9f",
   "metadata": {},
   "source": [
    "## 2. Inicializaciones de código <a class=\"anchor\" id=\"2\"></a>"
   ]
  },
  {
   "cell_type": "code",
   "execution_count": 1,
   "id": "33882fa4-8eb9-46c8-af49-f9deb2441be8",
   "metadata": {},
   "outputs": [],
   "source": [
    "# Importación de librerías\n",
    "from IPython.display import display, Math, Markdown\n",
    "import numpy as np\n",
    "import sympy as sp\n",
    "\n",
    "# Funciones útiles\n",
    "def print_latex(unstr):\n",
    "    if not isinstance(unstr, str):\n",
    "        raise ValueError(\"unstr debe ser una cadena.\")   \n",
    "    display(Math(unstr))\n",
    "\n",
    "def print_subtitle(unstr):\n",
    "    if not isinstance(unstr, str):\n",
    "        raise ValueError(\"unstr debe ser una cadena.\") \n",
    "    display(Markdown('#### ' + unstr))\n",
    "\n",
    "def to_latex(unsimbolo):\n",
    "    if not isinstance(unsimbolo, (sp.Expr, str)):\n",
    "        raise ValueError(\"unsimbolo debe ser un símbolo o una cadena.\")\n",
    "    a_str = sp.latex(unsimbolo) if isinstance(unsimbolo, sp.Expr) else unsimbolo  \n",
    "    return '$' + a_str + '$'"
   ]
  },
  {
   "cell_type": "markdown",
   "id": "1543f29c-722e-4f8d-8315-3ab4d00aa9e2",
   "metadata": {},
   "source": [
    "## 3. Resolución analítica y numérica Item A) <a class=\"anchor\" id=\"3\"></a>"
   ]
  },
  {
   "cell_type": "markdown",
   "id": "045e9161",
   "metadata": {},
   "source": [
    "Basándonos en la imagen de la consigna, la tensión pico a pico del generador es:\n",
    "\n",
    "$$\n",
    "\\begin{equation}\n",
    "V_{{pp}_g} = n_{div} \\cdot V_{div}\n",
    "\\end{equation}\n",
    "$$\n",
    "\n",
    "A partir del valor pico a pico podemos hallar el valor RMS de la tensión del generador:\n",
    "\n",
    "$$\n",
    "\\begin{equation}\n",
    "V_{{RMS}_g} = V_{{pp}_g} \\cdot \\frac{1}{2 \\cdot \\sqrt{2}}\n",
    "\\end{equation}\n",
    "$$\n",
    "\n",
    "Por lo tanto, la potencia activa del generador será:\n",
    "\n",
    "$$\n",
    "\\begin{equation}\n",
    "P_g = \\frac{(V_{{RMS}_g})²}{R} = \\frac{(V_{{pp}_g} \\cdot \\frac{1}{2 \\cdot \\sqrt{2}})²}{R}\n",
    "\\end{equation}\n",
    "$$"
   ]
  },
  {
   "cell_type": "code",
   "execution_count": 2,
   "id": "58c1704f-ed45-4e5b-ae6e-4d9dacebcde9",
   "metadata": {},
   "outputs": [
    {
     "name": "stdout",
     "output_type": "stream",
     "text": [
      "El valor de la tension pico a pico es: 5.2 V\n",
      "El valor de la tension eficaz es: 1.8384776310850235 V\n",
      "El valor de la potencia activa del generador es: 0.0338 W\n"
     ]
    }
   ],
   "source": [
    "# Datos\n",
    "\n",
    "NUM_DIV_CH2 = 5.2\n",
    "FACTOR_VERT_CH2 = 1\n",
    "R = 100\n",
    "\n",
    "# Cálculos\n",
    "V_pp = NUM_DIV_CH2 * FACTOR_VERT_CH2\n",
    "K_RMS = 1 / (2 * np.sqrt(2))\n",
    "V_rms = V_pp * K_RMS\n",
    "P_g = (V_pp * K_RMS)**2 / R\n",
    "\n",
    "print(f\"El valor de la tension pico a pico es: {V_pp} V\")\n",
    "print(f\"El valor de la tension eficaz es: {V_rms} V\")\n",
    "print(f\"El valor de la potencia activa del generador es: {P_g} W\")"
   ]
  },
  {
   "cell_type": "markdown",
   "id": "e432c634-b674-4bf7-b1d5-43e6757be90f",
   "metadata": {},
   "source": [
    "Ahora tenemos que calcular la incertidumbre tipo B de este medición.\n",
    "\n",
    "En primer lugar, como fuente de error tenemos la propia incertidumbre del canal 2 del osciloscopio, que se puede calcular de la siguiente forma:\n",
    "\n",
    "$$\n",
    "\\begin{equation}\n",
    "u_j(osc) = \\frac{a}{\\sqrt{3}}\n",
    "\\end{equation}\n",
    "$$\n",
    "\n",
    "$$\n",
    "\\begin{equation}\n",
    "a = 0.03 \\cdot V_{{pp}_g} + 0.05 \\ div \\cdot \\frac{1 V}{div}\n",
    "\\end{equation}\n",
    "$$\n",
    "\n",
    "Además, como fuente de error, tenemos el error que se produce al leer la medición:\n",
    "\n",
    "$$\n",
    "\\begin{equation}\n",
    "err_{lectura} = \\frac{0.2 \\ div \\cdot V_{div}}{\\sqrt{3}}\n",
    "\\end{equation}\n",
    "$$\n",
    "\n",
    "Debido a que no hay presencia de incertidumbre tipo A, la incertidumbre combinada será la suma cuadrática de las incertidumbres porcentuales calculadas anteriormente:\n",
    "$$\n",
    "\\begin{equation}\n",
    "u^2_c(V_{pp}) = u²_j(osc) + err^2_{lectura}\n",
    "\\end{equation}\n",
    "$$"
   ]
  },
  {
   "cell_type": "code",
   "execution_count": 3,
   "id": "0f492118-e452-4b58-a8f6-cead6741eff3",
   "metadata": {},
   "outputs": [
    {
     "name": "stdout",
     "output_type": "stream",
     "text": [
      "El valor de la precision es: 0.20600000000000002 V\n",
      "El error tipo B del canal 2 del osciloscopio es: 0.11893415545306292 V\n",
      "El valor de la incertidumbre combinada de Vpp es: 0.16576690461810123 V\n"
     ]
    }
   ],
   "source": [
    "err_lect =  0.2 * FACTOR_VERT_CH2 / np.sqrt(3)\n",
    "a = 0.03 * V_pp + 0.05 * FACTOR_VERT_CH2    # a = 3% * reading + 0.05 div\n",
    "uj_osc = a / np.sqrt(3)\n",
    "uc_Vpp = np.sqrt(uj_osc ** 2 + err_lect ** 2)\n",
    "\n",
    "print(f\"El valor de la precision es: {a} V\")\n",
    "print(f\"El error tipo B del canal 2 del osciloscopio es: {uj_osc} V\")\n",
    "print(f\"El valor de la incertidumbre combinada de Vpp es: {uc_Vpp} V\")"
   ]
  },
  {
   "cell_type": "markdown",
   "id": "429fb945-9b01-4933-bf83-d2024f456c0c",
   "metadata": {},
   "source": [
    "Ahora debemos calcular la incertidumbre combinada de la potencia del generador.\n",
    "\n",
    "Siendo el cuadrado de la incertidumbre de la potencia del generador. Nuestra función de medición es la siguiente:\n",
    "\n",
    "$$\n",
    "\\begin{equation}\n",
    "P_g = \\frac{(V_{{RMS}_g})²}{R} = \\frac{(V_{{pp}_g} \\cdot \\frac{1}{2 \\cdot \\sqrt{2}})²}{R}\n",
    "\\end{equation}\n",
    "$$\n",
    "\n",
    "Por lo tanto, debemos realizar la propagación de incertidumbre. La forma genérica era la siguinte:\n",
    "\n",
    "$$\n",
    "\\begin{equation}\n",
    "u^2_c(P_g) = \\left(\\frac{\\partial{P_g}}{\\partial{V_{pp}}} \\cdot u_c(V_{pp})\\right)^2 + \\left(\\frac{\\partial{P_g}}{\\partial{R}} \\cdot u_c(R)\\right)^2\n",
    "\\end{equation}\n",
    "$$\n",
    "\n",
    "$$\n",
    "\\begin{equation}\n",
    "\\frac{\\partial{P_g}}{\\partial{V_{pp}}} = \\left(\\frac{2~.~V_{pp}~.~K^2_{RMS}}{R}\\right)\n",
    "\\end{equation}\n",
    "$$\n",
    "\n",
    "$$\n",
    "\\begin{equation}\n",
    "\\frac{\\partial{P_g}}{\\partial{R}} = \\left(\\frac{-(V_{pp}~.~K_{RMS})^2}{R^2}\\right)\n",
    "\\end{equation}\n",
    "$$\n",
    "\n",
    "$$\n",
    "\\begin{equation}\n",
    "u^2_c(P_g) = \\left(\\frac{2~.~V_{pp}~.~K^2_{RMS}}{R}\\right)^2~.~u^2_c(V_{pp}) + \\left(\\frac{-(V_{pp}~.~K_{RMS})^2}{R^2}\\right)^2~.~u^2_c(R)\n",
    "\\end{equation}\n",
    "$$\n",
    "\n",
    "Como la resistencia, segun el problema, no presenta incertidumbre, el segundo término se anula.\n",
    "\n",
    "Y finalmente la incertidumbre combinada de la potencia del generador queda de la siguiente forma:\n",
    "\n",
    "$$\n",
    "u^2_c(P_g) = \\left(\\frac{2~.~V_{pp}~.~K^2_{RMS}}{R}\\right)^2~.~u^2_c(V_{pp})\n",
    "$$\n",
    "\n"
   ]
  },
  {
   "cell_type": "code",
   "execution_count": 4,
   "id": "416b6c8e-84a7-4695-a7f5-cc005cfaa864",
   "metadata": {},
   "outputs": [
    {
     "name": "stdout",
     "output_type": "stream",
     "text": [
      "La incertidumbre combinada de la potencia activa del generador es: 0.0021549697600353156 W\n",
      "La incertidumbre expandida de la potencia activa del generador es: 0.004309939520070631 W\n"
     ]
    }
   ],
   "source": [
    "d = (2 * V_pp * K_RMS ** 2) / R\n",
    "uc_Pg = np.sqrt( d ** 2 * uc_Vpp ** 2 )\n",
    "k = 2\n",
    "u_Pg = k * uc_Pg\n",
    "\n",
    "print(f\"La incertidumbre combinada de la potencia activa del generador es: {uc_Pg} W\")\n",
    "print(f\"La incertidumbre expandida de la potencia activa del generador es: {u_Pg} W\")"
   ]
  },
  {
   "cell_type": "markdown",
   "id": "8d1d568c-f22d-44e8-9ebd-e319fa81f3bd",
   "metadata": {},
   "source": [
    "Expandiendo para un factor de cobertura del 95,45%, el valor de la potencia activa del generador es:\n",
    "\n",
    "$$\n",
    "P_g = (33,80~;\\pm~4,31)~mW\n",
    "$$"
   ]
  },
  {
   "cell_type": "markdown",
   "id": "9c2bb80a",
   "metadata": {},
   "source": [
    "## 4. Resolución analítica y numérica Item B) <a class=\"anchor\" id=\"4\"></a>"
   ]
  },
  {
   "cell_type": "markdown",
   "id": "cbb0a280-c039-4ac7-81f9-d55dd04ac8eb",
   "metadata": {},
   "source": [
    "Basándonos en la imagen de la consigna, la tensión pico a pico del generador es:\n",
    "\n",
    "$$\n",
    "\\begin{equation}\n",
    "V_{{pp}_g} = n_{div} \\cdot V_{div}\n",
    "\\end{equation}\n",
    "$$\n",
    "\n",
    "A partir del valor pico a pico podemos hallar el valor RMS de la tensión del generador:\n",
    "\n",
    "$$\n",
    "\\begin{equation}\n",
    "V_{{RMS}_g} = V_{{pp}_g} \\cdot \\frac{1}{2 \\cdot \\sqrt{2}}\n",
    "\\end{equation}\n",
    "$$"
   ]
  },
  {
   "cell_type": "markdown",
   "id": "4aaa9577-7a24-4f9f-a396-b4bb81c1f000",
   "metadata": {},
   "source": [
    "Siendo la corriente eficaz del circuito:\n",
    "\n",
    "$$\n",
    "I_{RMS} = \\frac{V_{{pp}_g}~.~K_{RMS}}{R}\n",
    "$$"
   ]
  },
  {
   "cell_type": "markdown",
   "id": "2647d993-4170-435d-be04-4ce4ef857e41",
   "metadata": {},
   "source": [
    "Siendo la potencia aparente (Función de medición):\n",
    "\n",
    "$$\n",
    "S_g = V_{{pp}_g}~.~K_{RMS}~.~I_{RMS}\n",
    "$$"
   ]
  },
  {
   "cell_type": "code",
   "execution_count": 5,
   "id": "39025314-ac38-4d34-8086-7d2186fe5c8a",
   "metadata": {},
   "outputs": [
    {
     "name": "stdout",
     "output_type": "stream",
     "text": [
      "El valor de la tension pico a pico es: 10 V\n",
      "El valor de la corriente eficaz es: 0.018384776310850236 A\n",
      "El valor de la potencia aparente es: 0.065 VA\n"
     ]
    }
   ],
   "source": [
    "NUM_DIV_CH1 = 10\n",
    "FACTOR_VERT_CH1 = 1\n",
    "\n",
    "vpp_2 = NUM_DIV_CH1 * FACTOR_VERT_CH1\n",
    "i_rms = V_pp * K_RMS / R\n",
    "s_g = vpp_2 * K_RMS * i_rms\n",
    "\n",
    "print(\"El valor de la tension pico a pico es: {} V\".format(vpp_2))\n",
    "print(\"El valor de la corriente eficaz es: {} A\".format(i_rms))\n",
    "print(\"El valor de la potencia aparente es: {} VA\".format(s_g))"
   ]
  },
  {
   "cell_type": "markdown",
   "id": "a645f407-b46e-4a00-b277-dede6beab167",
   "metadata": {},
   "source": [
    "Ahora tenemos que calcular la incertidumbre tipo B de este medición.\n",
    "\n",
    "En primer lugar, como fuente de error tenemos la propia incertidumbre del canal 1 del osciloscopio, que se puede calcular de la siguiente forma:\n",
    "\n",
    "$$\n",
    "\\begin{equation}\n",
    "u_j(osc) = \\frac{a}{\\sqrt{3}}\n",
    "\\end{equation}\n",
    "$$\n",
    "\n",
    "$$\n",
    "\\begin{equation}\n",
    "a = 0.03 \\cdot V_{{pp}_g} + 0.05 \\ div \\cdot \\frac{1 V}{div}\n",
    "\\end{equation}\n",
    "$$\n",
    "\n",
    "Además, como fuente de error, tenemos el error que se produce al leer la medición:\n",
    "\n",
    "$$\n",
    "\\begin{equation}\n",
    "err_{lectura} = \\frac{0.2 \\ div \\cdot V_{div}}{\\sqrt{3}}\n",
    "\\end{equation}\n",
    "$$\n",
    "\n",
    "Debido a que no hay presencia de incertidumbre tipo A, la incertidumbre combinada será la suma cuadrática de las incertidumbres porcentuales calculadas anteriormente:\n",
    "$$\n",
    "\\begin{equation}\n",
    "u^2_c(V_{pp}) = u²_j(osc) + err^2_{lectura}\n",
    "\\end{equation}\n",
    "$$\n"
   ]
  },
  {
   "cell_type": "code",
   "execution_count": 6,
   "id": "68a84869-7940-4d7d-bf22-a8230dfa1668",
   "metadata": {},
   "outputs": [
    {
     "name": "stdout",
     "output_type": "stream",
     "text": [
      "El valor de la precision es: 0.20600000000000002 V\n",
      "El error tipo B del canal 2 del osciloscopio es: 0.11893415545306292 V\n",
      "El valor de la incertidumbre combinada de Vpp es: 0.16576690461810123 V\n"
     ]
    }
   ],
   "source": [
    "err_lect =  0.2 * FACTOR_VERT_CH2 / np.sqrt(3)\n",
    "a = 0.03 * V_pp + 0.05 * FACTOR_VERT_CH2   # a = 3% * reading + 0.05 div\n",
    "uj_osc1 = a / np.sqrt(3)\n",
    "uc_Vpp1 = np.sqrt(uj_osc1 ** 2 + err_lect ** 2)\n",
    "\n",
    "print(f\"El valor de la precision es: {a} V\")\n",
    "print(f\"El error tipo B del canal 2 del osciloscopio es: {uj_osc} V\")\n",
    "print(f\"El valor de la incertidumbre combinada de Vpp es: {uc_Vpp} V\")"
   ]
  },
  {
   "cell_type": "markdown",
   "id": "5fac2a83-af21-4751-9397-28e8a97cb7be",
   "metadata": {},
   "source": [
    "Siendo la incertidumbre combinada de la potencia aparente:\n",
    "\n",
    "$$\n",
    "u_c(S_g) = (\\frac{2~.~V_{pp}~.~K^2_{RMS}}{R})^2~.~u^2_c(V_{pp}) + (\\frac{-(V_{pp}~.~K_{RMS})^2}{R^2})^2~.~u^2_c(R)\n",
    "$$"
   ]
  },
  {
   "cell_type": "markdown",
   "id": "0aa8bb6b-df94-4205-a940-fdcb4b747b77",
   "metadata": {},
   "source": [
    "Dado que la incertidumbre de la resistencia es nula:\n",
    "\n",
    "$$\n",
    "u^2_c(p_g) = (\\frac{2~.~V_{pp}~.~K^2_{RMS}}{R})^2~.~u^2_c(V_{pp})\n",
    "$$"
   ]
  },
  {
   "cell_type": "code",
   "execution_count": 7,
   "id": "9229ba50-b630-496f-9e3c-008ca4027b22",
   "metadata": {},
   "outputs": [
    {
     "name": "stdout",
     "output_type": "stream",
     "text": [
      "La incertidumbre combinada de la potencia aparente del generador es: 0.00414417261545253 VA\n",
      "La incertidumbre expandida de la potencia aparente del generador es: 0.00828834523090506 VA\n"
     ]
    }
   ],
   "source": [
    "d2 = (2 * vpp_2 * K_RMS ** 2) / R\n",
    "uc_s = np.sqrt( d2 ** 2 * uc_Vpp1 ** 2 )\n",
    "k = 2\n",
    "u_s = k * uc_s\n",
    "\n",
    "print(\"La incertidumbre combinada de la potencia aparente del generador es: {} VA\".format(uc_s))\n",
    "print(\"La incertidumbre expandida de la potencia aparente del generador es: {} VA\".format(u_s))"
   ]
  },
  {
   "cell_type": "markdown",
   "id": "b24eb81b-1b16-4767-a16d-a89b607b1974",
   "metadata": {},
   "source": [
    "Expandiendo para un factor de cobertura del 95,45%, el valor de la potencia aparente del generador es:\n",
    "\n",
    "$$\n",
    "S_g = (65,00~;\\pm~8,29)~mVA\n",
    "$$"
   ]
  },
  {
   "cell_type": "markdown",
   "id": "f032e8bb-69fa-41b4-87d1-e8d2fbddd29f",
   "metadata": {},
   "source": [
    "## 5. Resolución analítica y numérica Item C) <a class=\"anchor\" id=\"5\"></a>"
   ]
  },
  {
   "cell_type": "markdown",
   "id": "d2acf349-d40a-4b58-aa99-bd754ed929d8",
   "metadata": {},
   "source": [
    "Siendo la potencia reactiva:\n",
    "\n",
    "$$\n",
    "Q_g = \\sqrt{S^2_g - P^2_g}\n",
    "$$"
   ]
  },
  {
   "cell_type": "markdown",
   "id": "342704fa-018b-4faa-9b45-f0381a6c0ac1",
   "metadata": {},
   "source": [
    "Siendo la impedancia capacitiva:\n",
    "\n",
    "$$\n",
    "Z_c = \\frac{Q_g}{I^2_{RMS}}\n",
    "$$"
   ]
  },
  {
   "cell_type": "markdown",
   "id": "f61e250b-6298-453c-81f6-be93cdc602d5",
   "metadata": {},
   "source": [
    "Siendo la velocidad angular:\n",
    "\n",
    "$$\n",
    "\\omega = \\frac{2\\pi}{T}\n",
    "$$"
   ]
  },
  {
   "cell_type": "markdown",
   "id": "064e3ffd-f832-4797-b580-b19de7754272",
   "metadata": {},
   "source": [
    "Siendo la capacidad:\n",
    "\n",
    "$$\n",
    "C = \\frac{1}{Z_c~.~\\omega}\n",
    "$$"
   ]
  },
  {
   "cell_type": "code",
   "execution_count": 8,
   "id": "2996f54b-eafd-473b-bc1b-d0d10f04d771",
   "metadata": {},
   "outputs": [
    {
     "name": "stdout",
     "output_type": "stream",
     "text": [
      "El valor de la potencia reactiva es: 0.055520806910562825 VAr\n",
      "El valor de la impedancia capacitiva es: 164.26274233894327 ohms\n",
      "El valor de la velocidad angular es: 6283.185307179586 1/s\n",
      "El valor de la capacidad es: 9.689047000292473e-07 F\n"
     ]
    }
   ],
   "source": [
    "T = 100e-6 * NUM_DIV_CH1\n",
    "\n",
    "q_g = np.sqrt( s_g ** 2 - P_g ** 2 )\n",
    "zc = q_g / i_rms ** 2\n",
    "omega = 2 * np.pi / T\n",
    "C = 1 / (zc * omega)\n",
    "\n",
    "print(\"El valor de la potencia reactiva es: {} VAr\".format(q_g))\n",
    "print(\"El valor de la impedancia capacitiva es: {} ohms\".format(zc))\n",
    "print(\"El valor de la velocidad angular es: {} 1/s\".format(omega))\n",
    "print(\"El valor de la capacidad es: {} F\".format(C))"
   ]
  },
  {
   "cell_type": "markdown",
   "id": "16640b76-9788-4c6a-a931-d052696a495d",
   "metadata": {},
   "source": [
    "Por lo tanto, el valor del capacitor es:\n",
    "\n",
    "$$\n",
    "C = 968,90~nF\n",
    "$$"
   ]
  }
 ],
 "metadata": {
  "kernelspec": {
   "display_name": "Python 3 (ipykernel)",
   "language": "python",
   "name": "python3"
  },
  "language_info": {
   "codemirror_mode": {
    "name": "ipython",
    "version": 3
   },
   "file_extension": ".py",
   "mimetype": "text/x-python",
   "name": "python",
   "nbconvert_exporter": "python",
   "pygments_lexer": "ipython3",
   "version": "3.12.4"
  }
 },
 "nbformat": 4,
 "nbformat_minor": 5
}
