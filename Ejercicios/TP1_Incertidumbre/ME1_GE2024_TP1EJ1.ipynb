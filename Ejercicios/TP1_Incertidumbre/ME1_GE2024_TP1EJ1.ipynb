{
 "cells": [
  {
   "cell_type": "markdown",
   "id": "4232468e-2dab-40c0-b452-08109818ba29",
   "metadata": {},
   "source": [
    "<img src=\"./img/logo_UTN.svg\" align=\"right\" width=\"200\" /> \n",
    "\n",
    "## Medidas Electrónicas I\n",
    "\n",
    "# Guia de Ejercicios - 2024\n",
    "## Trabajo Práctico N°1 - Incertidumbre - Ejercicio N°1\n",
    "### Tomas A. Albanesi"
   ]
  },
  {
   "cell_type": "markdown",
   "id": "5d0a8fdb-2f6a-4968-ae95-64aba43b1b62",
   "metadata": {},
   "source": [
    "## Indice de contenidos:\n",
    "* [1. Consigna](#1)\n",
    "* [2. Inicializaciones de código](#2)\n",
    "* [3. Resolución analítica y numérica](#3)"
   ]
  },
  {
   "cell_type": "markdown",
   "id": "b98061ae-ec12-49d4-8646-19c8f3149b04",
   "metadata": {},
   "source": [
    "## 1. Consigna <a class=\"anchor\" id=\"1\"></a>\n",
    "\n",
    "<img src=\"./img/ConsignaEjercicio1.png\" align=\"left\" width=\"600\" /> "
   ]
  },
  {
   "cell_type": "markdown",
   "id": "1538e1cc-3402-407b-adba-29d1014fca9f",
   "metadata": {},
   "source": [
    "## 2. Inicializaciones de código <a class=\"anchor\" id=\"2\"></a>"
   ]
  },
  {
   "cell_type": "code",
   "execution_count": 13,
   "id": "33882fa4-8eb9-46c8-af49-f9deb2441be8",
   "metadata": {},
   "outputs": [],
   "source": [
    "# Importación de librerías\n",
    "from IPython.display import display, Math, Markdown\n",
    "import numpy as np\n",
    "import sympy as sp\n",
    "\n",
    "# Funciones útiles\n",
    "def print_latex(unstr):\n",
    "    if not isinstance(unstr, str):\n",
    "        raise ValueError(\"unstr debe ser una cadena.\")   \n",
    "    display(Math(unstr))\n",
    "\n",
    "def print_subtitle(unstr):\n",
    "    if not isinstance(unstr, str):\n",
    "        raise ValueError(\"unstr debe ser una cadena.\") \n",
    "    display(Markdown('#### ' + unstr))\n",
    "\n",
    "def to_latex(unsimbolo):\n",
    "    if not isinstance(unsimbolo, (sp.Expr, str)):\n",
    "        raise ValueError(\"unsimbolo debe ser un símbolo o una cadena.\")\n",
    "    a_str = sp.latex(unsimbolo) if isinstance(unsimbolo, sp.Expr) else unsimbolo  \n",
    "    return '$' + a_str + '$'\n",
    "\n",
    "# Definicion de clases\n",
    "class Uncertainty(object):\n",
    "\n",
    "    def __init__(self, dat, err):\n",
    "        self.samples = dat\n",
    "        self.data = np.array(dat)\n",
    "        self.mean = np.mean(self.data)\n",
    "        self.std = np.std(self.data)\n",
    "        self.instrumentError = err\n",
    "\n",
    "    def printAll(self):\n",
    "        print()\n",
    "        print_subtitle('Datos de Incertidumbre:')\n",
    "        print_latex(to_latex('Media = %0.2f' % self.mean))\n",
    "        print_latex(to_latex('Desviación estándar = %0.2f' % self.std))\n",
    "        print_latex(to_latex('Incertidumbre Tipo A = %0.2f' % self.uncertaintyTypeA()))\n",
    "        print_latex(to_latex('Incertidumbre Tipo B = %0.2f' % self.uncertaintyTypeB()))\n",
    "        print_latex(to_latex('Incertidumbre Combinada = %0.2f' % self.uncertaintyCombined()))\n",
    "\n",
    "    def mean():\n",
    "        return self.mean\n",
    "\n",
    "    def UncertaintyTypeA(self):\n",
    "        return self.std / np.sqrt(self.data.size)\n",
    "\n",
    "    def UncertaintyTypeB(self):\n",
    "        return ((self.instrumentError/100.0)/np.sqrt(3))*self.mean # Distribuacion tipo Rectangular\n",
    "\n",
    "    def UncertaintyCombined(self):\n",
    "        return np.sqrt(self.uncertaintyTypeA()**2 + self.uncertaintyTypeB()**2)"
   ]
  },
  {
   "cell_type": "markdown",
   "id": "1543f29c-722e-4f8d-8315-3ab4d00aa9e2",
   "metadata": {},
   "source": [
    "## 3. Resolución analítica y numérica <a class=\"anchor\" id=\"3\"></a>"
   ]
  },
  {
   "cell_type": "code",
   "execution_count": 18,
   "id": "b33c0a06-583e-4a37-b436-c6717f0946d2",
   "metadata": {},
   "outputs": [],
   "source": [
    "# Datos del problema\n",
    "\n",
    "n = 20 # en número de mediciones\n",
    "v_mean = 100.145 # en Volts [V]\n",
    "v_std = 1.489 # en Volts [V]\n",
    "\n",
    "rango = 200\n",
    "cuentas = 3\n",
    "err = 0.5"
   ]
  },
  {
   "cell_type": "markdown",
   "id": "8e10d843-6ec5-4c83-b198-426dc7d5a502",
   "metadata": {},
   "source": [
    "### Incertidumbre Tipo A\n",
    "\n",
    "En primer lugar realizamos la evaluación de incertidumbre tipo A:\n",
    "\n",
    "$$\n",
    "u_i = \\frac{S}{\\sqrt{N}}\n",
    "$$\n",
    "\n",
    "donde $S$ es la desviación estándar y $N$ es el número de muestras o mediciones.\n",
    "\n",
    "Reemplazando los datos:\n",
    "\n",
    "$$\n",
    "u_i = \\frac{1.489 V}{\\sqrt{20}}\n",
    "$$"
   ]
  },
  {
   "cell_type": "code",
   "execution_count": 29,
   "id": "88d239e3-0e1c-4d6b-a251-531dddd1c03b",
   "metadata": {},
   "outputs": [
    {
     "data": {
      "text/markdown": [
       "#### La evaluación de incertidumbre tipo A es: "
      ],
      "text/plain": [
       "<IPython.core.display.Markdown object>"
      ]
     },
     "metadata": {},
     "output_type": "display_data"
    },
    {
     "data": {
      "text/latex": [
       "$\\displaystyle u_i = 0.33 ~V$"
      ],
      "text/plain": [
       "<IPython.core.display.Math object>"
      ]
     },
     "metadata": {},
     "output_type": "display_data"
    }
   ],
   "source": [
    "u_i = v_std / np.sqrt(n)\n",
    "print_subtitle(f'La evaluación de incertidumbre tipo A es: ')\n",
    "print_latex(to_latex('u_i = %0.2f ~V' % u_i))"
   ]
  },
  {
   "cell_type": "markdown",
   "id": "36512142-fdfc-4113-8aa9-38770d838119",
   "metadata": {},
   "source": [
    "### Incertidumbre Tipo B\n",
    "\n",
    "Ahora realizamos la incertidumbre tipo B que se encuentra asociada al error de medición del instrumento.\n",
    "\n",
    "Adoptando una distribución uniforme o rectangular:\n",
    "\n",
    "$$\r\n",
    "f(x) = \\left\\{\r\n",
    "    \\begin{array}\\\\\r\n",
    "        \\frac{1}{b-a} ~~\\mbox{if } \\ a\\leq x \\leq b \\\\\r\n",
    "        0\r\n",
    "    \\end{array}\r\n",
    "\\right.\r\n",
    "$$"
   ]
  },
  {
   "cell_type": "code",
   "execution_count": 30,
   "id": "390c2b13-5431-4003-8dbf-430abff26125",
   "metadata": {},
   "outputs": [
    {
     "data": {
      "text/markdown": [
       "#### La evaluación de incertidumbre tipo B es: "
      ],
      "text/plain": [
       "<IPython.core.display.Markdown object>"
      ]
     },
     "metadata": {},
     "output_type": "display_data"
    },
    {
     "data": {
      "text/latex": [
       "$\\displaystyle u_j = 0.46 ~V$"
      ],
      "text/plain": [
       "<IPython.core.display.Math object>"
      ]
     },
     "metadata": {},
     "output_type": "display_data"
    }
   ],
   "source": [
    "v_cuenta = 199.9 / 1999 # Volts/Cuentas\n",
    "err_j = (err / 100) * v_mean + (cuentas * v_cuenta)\n",
    "u_j = err_j / np.sqrt(3)\n",
    "print_subtitle(f'La evaluación de incertidumbre tipo B es: ')\n",
    "print_latex(to_latex('u_j = %0.2f ~V' % u_j))"
   ]
  },
  {
   "cell_type": "markdown",
   "id": "d0570dd5-d0f5-43f9-be77-a374e36d9f3c",
   "metadata": {},
   "source": [
    "### Incertidumbre Combinada\n",
    "\n",
    "$$\n",
    "u_c = \\sqrt{u_i^2+u_j^2}\n",
    "$$"
   ]
  },
  {
   "cell_type": "code",
   "execution_count": 32,
   "id": "944def5d-9abc-42fe-bcde-3992b297eaed",
   "metadata": {},
   "outputs": [
    {
     "data": {
      "text/markdown": [
       "#### La evaluación de incertidumbre combinada es: "
      ],
      "text/plain": [
       "<IPython.core.display.Markdown object>"
      ]
     },
     "metadata": {},
     "output_type": "display_data"
    },
    {
     "data": {
      "text/latex": [
       "$\\displaystyle u_c = 0.57 ~V$"
      ],
      "text/plain": [
       "<IPython.core.display.Math object>"
      ]
     },
     "metadata": {},
     "output_type": "display_data"
    }
   ],
   "source": [
    "u_c = np.sqrt(u_i**2+u_j**2)\n",
    "print_subtitle(f'La evaluación de incertidumbre combinada es: ')\n",
    "print_latex(to_latex('u_c = %0.2f ~V' % u_c))"
   ]
  },
  {
   "cell_type": "markdown",
   "id": "06a0a099-3115-4720-9a61-bf6ea0a02125",
   "metadata": {},
   "source": [
    "### Grados de libertad\n",
    "\n",
    "$$\r\n",
    "v_{eff} = \\frac{u_C^4(y)}{\\sum_{i=1}^{N}\\frac{C_i^4u_i^4(x_i)}{v_i}}~~~~c_i: correlacion~~~~vi: N-1\r\n",
    "$$"
   ]
  },
  {
   "cell_type": "code",
   "execution_count": 38,
   "id": "a24d6eeb-71fe-4259-89fd-b79c8a4b7ae0",
   "metadata": {},
   "outputs": [
    {
     "data": {
      "text/markdown": [
       "#### El valor de los grados de libertad es: "
      ],
      "text/plain": [
       "<IPython.core.display.Markdown object>"
      ]
     },
     "metadata": {},
     "output_type": "display_data"
    },
    {
     "data": {
      "text/latex": [
       "$\\displaystyle v_{eff} = 162$"
      ],
      "text/plain": [
       "<IPython.core.display.Math object>"
      ]
     },
     "metadata": {},
     "output_type": "display_data"
    }
   ],
   "source": [
    "v_i = n - 1\n",
    "c_i = 1\n",
    "\n",
    "v_eff = u_c**4 / ((c_i * u_i**4) / v_i)\n",
    "\n",
    "print_subtitle(f'El valor de los grados de libertad es: ')\n",
    "print_latex(to_latex('v_{eff} = %d' % v_eff))"
   ]
  },
  {
   "cell_type": "markdown",
   "id": "99f381ec-678f-4021-a408-33511130e9bf",
   "metadata": {},
   "source": [
    "Debido a que $v_{eff} > 30$, realizamos un analisis del tipo B dominante:\n",
    "\n",
    "<img src=\"./img/TipoBDominante.png\" align=\"left\" width=\"600\" /> "
   ]
  },
  {
   "cell_type": "markdown",
   "id": "4efecf5d-a4de-4c57-8ead-391c9a0474ea",
   "metadata": {},
   "source": [
    "$$\n",
    "\\frac{u_i}{u_j} = \\frac{0,33~V}{0,46~V} = 0,72 ~~\\to~~k_{95,45} = 1.90 \n",
    "$$"
   ]
  },
  {
   "cell_type": "markdown",
   "id": "6bc25e75-a586-4d3c-9b93-96a3354cc7c5",
   "metadata": {},
   "source": [
    "La incertidumbre expandida es:\n",
    "\n",
    "$$\r\n",
    "U(V) = k_{expansion} . u_c = 1.90~.~0,57 V~~\\to~~U(V) = 1,083 V\r\n",
    "$$"
   ]
  },
  {
   "cell_type": "markdown",
   "id": "58c3cac1-6f57-4beb-bc95-b5dec38055e2",
   "metadata": {},
   "source": [
    "Finalmente, el valor de la tension medida con un grado de confianza de 95% es:\n",
    "\n",
    "$$\n",
    "\\hat{V} = (100,14~;\\pm~1,08)~V\n",
    "$$"
   ]
  }
 ],
 "metadata": {
  "kernelspec": {
   "display_name": "Python 3 (ipykernel)",
   "language": "python",
   "name": "python3"
  },
  "language_info": {
   "codemirror_mode": {
    "name": "ipython",
    "version": 3
   },
   "file_extension": ".py",
   "mimetype": "text/x-python",
   "name": "python",
   "nbconvert_exporter": "python",
   "pygments_lexer": "ipython3",
   "version": "3.12.4"
  }
 },
 "nbformat": 4,
 "nbformat_minor": 5
}
