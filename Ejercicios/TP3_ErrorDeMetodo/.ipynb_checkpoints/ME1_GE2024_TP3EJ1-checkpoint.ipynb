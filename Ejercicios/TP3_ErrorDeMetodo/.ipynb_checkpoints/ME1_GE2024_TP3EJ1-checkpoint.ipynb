{
 "cells": [
  {
   "cell_type": "markdown",
   "id": "4232468e-2dab-40c0-b452-08109818ba29",
   "metadata": {},
   "source": [
    "<img src=\"./img/logo_UTN.svg\" align=\"right\" width=\"200\" /> \n",
    "\n",
    "## Medidas Electrónicas I\n",
    "\n",
    "# Guia de Ejercicios - 2024\n",
    "## Trabajo Práctico N°2 - Ejercicio N°1\n",
    "### Tomas A. Albanesi"
   ]
  },
  {
   "cell_type": "markdown",
   "id": "5d0a8fdb-2f6a-4968-ae95-64aba43b1b62",
   "metadata": {},
   "source": [
    "## Indice de contenidos:\n",
    "* [1. Consigna](#1)\n",
    "* [2. Inicializaciones de código](#2)\n",
    "* [3. Resolución analítica y numérica](#3)"
   ]
  },
  {
   "cell_type": "markdown",
   "id": "b98061ae-ec12-49d4-8646-19c8f3149b04",
   "metadata": {},
   "source": [
    "## 1. Consigna <a class=\"anchor\" id=\"1\"></a>\n",
    "\n",
    "<img src=\"./img/TP2EJ1_Consigna.png\" align=\"left\" width=\"800\" /> "
   ]
  },
  {
   "cell_type": "markdown",
   "id": "1538e1cc-3402-407b-adba-29d1014fca9f",
   "metadata": {},
   "source": [
    "## 2. Inicializaciones de código <a class=\"anchor\" id=\"2\"></a>"
   ]
  },
  {
   "cell_type": "code",
   "execution_count": 13,
   "id": "33882fa4-8eb9-46c8-af49-f9deb2441be8",
   "metadata": {},
   "outputs": [],
   "source": [
    "# Importación de librerías\n",
    "from IPython.display import display, Math, Markdown\n",
    "import numpy as np\n",
    "import sympy as sp\n",
    "\n",
    "# Funciones útiles\n",
    "def print_latex(unstr):\n",
    "    if not isinstance(unstr, str):\n",
    "        raise ValueError(\"unstr debe ser una cadena.\")   \n",
    "    display(Math(unstr))\n",
    "\n",
    "def print_subtitle(unstr):\n",
    "    if not isinstance(unstr, str):\n",
    "        raise ValueError(\"unstr debe ser una cadena.\") \n",
    "    display(Markdown('#### ' + unstr))\n",
    "\n",
    "def to_latex(unsimbolo):\n",
    "    if not isinstance(unsimbolo, (sp.Expr, str)):\n",
    "        raise ValueError(\"unsimbolo debe ser un símbolo o una cadena.\")\n",
    "    a_str = sp.latex(unsimbolo) if isinstance(unsimbolo, sp.Expr) else unsimbolo  \n",
    "    return '$' + a_str + '$'\n",
    "\n",
    "# Definicion de clases\n",
    "class Uncertainty(object):\n",
    "\n",
    "    def __init__(self, dat, err):\n",
    "        self.samples = dat\n",
    "        self.data = np.array(dat)\n",
    "        self.mean = np.mean(self.data)\n",
    "        self.std = np.std(self.data)\n",
    "        self.instrumentError = err\n",
    "\n",
    "    def printAll(self):\n",
    "        print()\n",
    "        print_subtitle('Datos de Incertidumbre:')\n",
    "        print_latex(to_latex('Media = %0.2f' % self.mean))\n",
    "        print_latex(to_latex('Desviación estándar = %0.2f' % self.std))\n",
    "        print_latex(to_latex('Incertidumbre Tipo A = %0.2f' % self.uncertaintyTypeA()))\n",
    "        print_latex(to_latex('Incertidumbre Tipo B = %0.2f' % self.uncertaintyTypeB()))\n",
    "        print_latex(to_latex('Incertidumbre Combinada = %0.2f' % self.uncertaintyCombined()))\n",
    "\n",
    "    def mean():\n",
    "        return self.mean\n",
    "\n",
    "    def UncertaintyTypeA(self):\n",
    "        return self.std / np.sqrt(self.data.size)\n",
    "\n",
    "    def UncertaintyTypeB(self):\n",
    "        return ((self.instrumentError/100.0)/np.sqrt(3))*self.mean # Distribuacion tipo Rectangular\n",
    "\n",
    "    def UncertaintyCombined(self):\n",
    "        return np.sqrt(self.uncertaintyTypeA()**2 + self.uncertaintyTypeB()**2)"
   ]
  },
  {
   "cell_type": "markdown",
   "id": "1543f29c-722e-4f8d-8315-3ab4d00aa9e2",
   "metadata": {},
   "source": [
    "## 3. Resolución analítica y numérica Item A) <a class=\"anchor\" id=\"3\"></a>"
   ]
  },
  {
   "cell_type": "markdown",
   "id": "045e9161",
   "metadata": {},
   "source": [
    "Un multimetro que se encuentra calibrado para una señal senoidal tiene un factor de calibracion asociado para obtener el valor eficaz de una señal senoidal. \n",
    "Por lo tanto, el valor eficaz que indica para una señal no senoidal NO corresponde al valor eficaz real de la señal."
   ]
  },
  {
   "cell_type": "markdown",
   "id": "9c2bb80a",
   "metadata": {},
   "source": [
    "## 4. Resolución analítica y numérica Item B) <a class=\"anchor\" id=\"4\"></a>\n",
    "### Indicar el ciclo de actividad de la señal con su incertidumbre."
   ]
  },
  {
   "cell_type": "markdown",
   "id": "bddb543f",
   "metadata": {},
   "source": [
    "Si recordamos, en una señal rectangular podemos definir las siguientes variables:\n",
    "\n",
    "<img src=\"./img/TP2EJ1_Rectangular.png\" align=\"left\" width=\"300\" /> \n",
    "<br><br><br><br><br><br><br><br><br><br>\n",
    "Donde:\n",
    "\n",
    "* $S_{m+}$ es el valor positivo de la señal\n",
    "* $S_{m-}$ es el valor negativo de la señal\n",
    "* $S_{pp}$ es el valor pico a pico de la señal\n",
    "* $T$ es el periodo de la señal\n",
    "\n",
    "Podemos definir tambien al parametro $\\delta$ como:\n",
    "\n",
    "$\\delta = \\frac{\\tau}{T}$\n",
    "\n",
    "Donde:\n",
    "\n",
    "* $\\tau$ es el periodo de actividad positivo\n",
    "\n",
    "Podemos definir las siguientes ecuaciones:\n",
    "\n",
    "$$S_{m-} = S_{pp} \\cdot \\delta$$\n",
    "\n",
    "$$S_{m+} = S_{pp} \\cdot (1 - \\delta)$$\n",
    "\n",
    "El valor que va a informar un instrumento que responde al valor maximo es:\n",
    "\n",
    "$$S_i = S_{pp} \\cdot (1 - \\delta) \\cdot \\frac{1}{\\sqrt{2}}$$\n",
    "\n",
    "El valor que va a informar un instrumento que responde al valor medio de modulo es:\n",
    "\n",
    "$$S_{|me|} = 2 \\cdot S_{pp} \\cdot (1 - \\delta) \\cdot \\delta$$\n",
    "\n",
    "Entonces podemos definir lo siguiente en base a los valores informados:\n",
    "\n",
    "$S_{i_1} = S_{pp} \\cdot (1 - \\delta) \\cdot \\frac{1}{\\sqrt{2}}$\n",
    "\n",
    "$S_{i_2} = 2 \\cdot S_{pp} \\cdot (1 - \\delta) \\cdot \\delta$\n",
    "\n",
    "Tenemos un sistema de ecuaciones y debo despejar el factor $\\delta$.\n",
    "\n",
    "Procedemos a realizar la division en ambos miembros, de ambas ecuaciones:\n",
    "\n",
    "\n",
    "$$\n",
    "\\displaystyle\n",
    "\\frac{S_{i_1}}{S_{i_2}} = \\frac{S_{pp} \\cdot (1 - \\delta) \\cdot \\frac{1}{\\sqrt{2}}}{2 \\cdot S_{pp} \\cdot (1 - \\delta) \\cdot \\delta}\n",
    "$$\n",
    "\n",
    "$$\n",
    "\\frac{S_{i_1}}{S_{i_2}} = \\frac{1}{\\pi \\cdot \\delta}\n",
    "$$\n",
    "\n",
    "Desde donde podemos despejar el factor $\\delta$:\n",
    "\n",
    "$$\n",
    "\\delta = \\frac{S_{i_2}}{S_{i_1} \\cdot \\pi}\n",
    "$$\n",
    "\n",
    "\n"
   ]
  },
  {
   "cell_type": "code",
   "execution_count": 1,
   "id": "1af29af4",
   "metadata": {},
   "outputs": [
    {
     "name": "stdout",
     "output_type": "stream",
     "text": [
      "El valor del ciclo de actividad es: 20.71 %\n"
     ]
    }
   ],
   "source": [
    "from numpy import pi, sqrt\n",
    "\n",
    "Si = [0.850, 0.553, 0.360]\n",
    "\n",
    "delta = Si[1] / (pi * Si[0])\n",
    "\n",
    "print('El valor del ciclo de actividad es: {:.2f} %'.format(delta * 100))"
   ]
  },
  {
   "cell_type": "markdown",
   "id": "66c91c94",
   "metadata": {},
   "source": [
    "Ahora, calculamos la incertidumbre Tipo B del voltimetro N°1:\n",
    "\n",
    "$u_j(S_{i_1}) = \\frac{a_1}{\\sqrt{3}}$\n",
    "\n",
    "$a_1 = \\Delta V_1 \\cdot err_1 \\%$\n",
    "\n",
    "$err_1 \\% = err_{med_1} \\% + err_{cont_1}$\n",
    "\n",
    "$err_{cont_1}\\% = \\frac{\\text{total de conteos}}{\\text{valor de cuentas del instrumento}} \\cdot 100\\%$"
   ]
  },
  {
   "cell_type": "code",
   "execution_count": 2,
   "id": "1ffe49ee",
   "metadata": {},
   "outputs": [
    {
     "name": "stdout",
     "output_type": "stream",
     "text": [
      "El error tipo B del voltrimetro 1 es: 0.0014000744027848427 V\n"
     ]
    }
   ],
   "source": [
    "CONTEOS = 2\n",
    "CUENTAS = [850, 553]\n",
    "ERR_MED = 0.05\n",
    "\n",
    "err_c = CONTEOS / CUENTAS[0] * 100\n",
    "err1 = ERR_MED + err_c\n",
    "\n",
    "a1 = Si[0] * err1 / 100\n",
    "uj_si1 = a1 / sqrt(3)\n",
    "\n",
    "print(\"El error tipo B del voltrimetro 1 es: {} V\".format(uj_si1))\n"
   ]
  },
  {
   "cell_type": "markdown",
   "id": "7dc455e6",
   "metadata": {},
   "source": [
    "Ahora, calculamos la incertidumbre Tipo B del voltimetro N°2:\n",
    "\n",
    "$u_j(S_{i_2}) = \\frac{a_2}{\\sqrt{3}}$\n",
    "\n",
    "$a_2 = \\Delta V_2 \\cdot err_2 \\%$\n",
    "\n",
    "$err_2 \\% = err_{med_2} \\% + err_{cont_2}$\n",
    "\n",
    "$err_{cont_2}\\% = \\frac{\\text{total de conteos}}{\\text{valor de cuentas del instrumento}} \\cdot 100\\%$"
   ]
  },
  {
   "cell_type": "code",
   "execution_count": 3,
   "id": "a98b3451",
   "metadata": {},
   "outputs": [
    {
     "name": "stdout",
     "output_type": "stream",
     "text": [
      "El error tipo B del voltrimetro 2 es: 0.0013143378878101833 V\n"
     ]
    }
   ],
   "source": [
    "err_c = CONTEOS / CUENTAS[1] * 100\n",
    "err1 = ERR_MED + err_c\n",
    "\n",
    "a2 = Si[1] * err1 / 100\n",
    "uj_si2 = a2 / sqrt(3)\n",
    "\n",
    "print(\"El error tipo B del voltrimetro 2 es: {} V\".format(uj_si2))"
   ]
  },
  {
   "cell_type": "markdown",
   "id": "2b10284c",
   "metadata": {},
   "source": [
    "Ahora, como hallamos los errores tipo B de ambos voltimetros, podemos hallar la incertidumbre combinada.\n",
    "\n",
    "Siendo $\\delta$ una funcion del tipo:\n",
    "\n",
    "$$\n",
    "y = C \\cdot x_1^{E_1} \\cdot x_2^{E_2} \\cdot ... \\cdot x_n^{E_n}\n",
    "$$\n",
    "\n",
    "Donde:"
   ]
  }
 ],
 "metadata": {
  "kernelspec": {
   "display_name": "Python 3 (ipykernel)",
   "language": "python",
   "name": "python3"
  },
  "language_info": {
   "codemirror_mode": {
    "name": "ipython",
    "version": 3
   },
   "file_extension": ".py",
   "mimetype": "text/x-python",
   "name": "python",
   "nbconvert_exporter": "python",
   "pygments_lexer": "ipython3",
   "version": "3.11.7"
  }
 },
 "nbformat": 4,
 "nbformat_minor": 5
}
