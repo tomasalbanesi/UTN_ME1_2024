{
 "cells": [
  {
   "cell_type": "markdown",
   "id": "4232468e-2dab-40c0-b452-08109818ba29",
   "metadata": {},
   "source": [
    "<img src=\"./img/logo_UTN.svg\" align=\"right\" width=\"200\" /> \n",
    "\n",
    "## Medidas Electrónicas I\n",
    "\n",
    "# Guia de Ejercicios - 2024\n",
    "## Trabajo Práctico N°3 - Error de método - Ejercicio N°2\n",
    "### Tomas A. Albanesi"
   ]
  },
  {
   "cell_type": "markdown",
   "id": "5d0a8fdb-2f6a-4968-ae95-64aba43b1b62",
   "metadata": {},
   "source": [
    "## Indice de contenidos:\n",
    "* [1. Consigna](#1)\n",
    "* [2. Inicializaciones de código](#2)\n",
    "* [3. Resolución analítica y numérica Item A)](#3)\n",
    "* [4. Resolución analítica y numérica Item B)](#4)\n",
    "* [5. Resolución analítica y numérica Item C)](#5)"
   ]
  },
  {
   "cell_type": "markdown",
   "id": "b98061ae-ec12-49d4-8646-19c8f3149b04",
   "metadata": {},
   "source": [
    "## 1. Consigna <a class=\"anchor\" id=\"1\"></a>\n",
    "\n",
    "<img src=\"./img/TP3EJ2_Consigna.png\" align=\"left\" width=\"800\" /> "
   ]
  },
  {
   "cell_type": "markdown",
   "id": "1538e1cc-3402-407b-adba-29d1014fca9f",
   "metadata": {},
   "source": [
    "## 2. Inicializaciones de código <a class=\"anchor\" id=\"2\"></a>"
   ]
  },
  {
   "cell_type": "code",
   "execution_count": 3,
   "id": "33882fa4-8eb9-46c8-af49-f9deb2441be8",
   "metadata": {},
   "outputs": [],
   "source": [
    "# Importación de librerías\n",
    "from IPython.display import display, Math, Markdown\n",
    "import numpy as np\n",
    "import sympy as sp\n",
    "\n",
    "# Funciones útiles\n",
    "def print_latex(unstr):\n",
    "    if not isinstance(unstr, str):\n",
    "        raise ValueError(\"unstr debe ser una cadena.\")   \n",
    "    display(Math(unstr))\n",
    "\n",
    "def print_subtitle(unstr):\n",
    "    if not isinstance(unstr, str):\n",
    "        raise ValueError(\"unstr debe ser una cadena.\") \n",
    "    display(Markdown('#### ' + unstr))\n",
    "\n",
    "def to_latex(unsimbolo):\n",
    "    if not isinstance(unsimbolo, (sp.Expr, str)):\n",
    "        raise ValueError(\"unsimbolo debe ser un símbolo o una cadena.\")\n",
    "    a_str = sp.latex(unsimbolo) if isinstance(unsimbolo, sp.Expr) else unsimbolo  \n",
    "    return '$' + a_str + '$'"
   ]
  },
  {
   "cell_type": "markdown",
   "id": "1543f29c-722e-4f8d-8315-3ab4d00aa9e2",
   "metadata": {},
   "source": [
    "## 3. Resolución analítica y numérica Item A) <a class=\"anchor\" id=\"3\"></a>"
   ]
  },
  {
   "cell_type": "markdown",
   "id": "67d70727-fdc9-4236-ab4c-0af61a770754",
   "metadata": {},
   "source": [
    "El circuito correspondiente es el siguiente:\n",
    "\n",
    "<img src=\"./img/TP3EJ2_Circuito1.png\" align=\"left\" width=\"800\" /> "
   ]
  },
  {
   "cell_type": "markdown",
   "id": "48cacf2b-2e73-413b-ac81-a90dade13b9b",
   "metadata": {},
   "source": [
    "Modelizando electrónicamente el cable Coaxil queda de la siguiente forma:\n",
    "\n",
    "<img src=\"./img/TP3EJ2_Circuito2.png\" align=\"left\" width=\"800\" />"
   ]
  },
  {
   "cell_type": "markdown",
   "id": "9c2bb80a",
   "metadata": {},
   "source": [
    "## 4. Resolución analítica y numérica Item B) <a class=\"anchor\" id=\"4\"></a>"
   ]
  },
  {
   "cell_type": "markdown",
   "id": "93f432c1-aa8c-4188-a50d-678c5e69c536",
   "metadata": {},
   "source": [
    "El error de método se calcula de la siguiente forma:\n",
    "\n",
    "$$\n",
    "\\begin{equation}\n",
    "e_m = \\frac{V_i - V_g}{V_g} = \\frac{V_i}{V_g} - 1 ~ (I)\n",
    "\\end{equation}\n",
    "$$"
   ]
  },
  {
   "cell_type": "markdown",
   "id": "4948bb38-f81c-407a-bace-d22479a13ea9",
   "metadata": {},
   "source": [
    "A $V_i$ lo podemos expresar, en base al circuito, de la siguiente manera:\n",
    "\n",
    "$$\n",
    "\\begin{equation}\n",
    "V_i = V_g \\cdot \\frac{Z_p}{Z_p + Z_g} ~ (II)\n",
    "\\end{equation}\n",
    "$$\n",
    "\n",
    "Donde:\n",
    "\n",
    "- $Z_p = \\left( \\frac{1}{R_v} + s C_t \\right)^{-1}$ y $C_t = C_v + C_c$\n",
    "- $Z_g = R_g$\n",
    "\n",
    "Por simplicidad, a $Z_p$ lo podemos expresar de la siguiente forma:\n",
    "\n",
    "$$\n",
    "\\begin{equation}\n",
    "Z_p = \\frac{R_v}{1 + s R_v C_t}\n",
    "\\end{equation}\n",
    "$$"
   ]
  },
  {
   "cell_type": "markdown",
   "id": "05d14949-ef65-42c7-a99c-bfe4d2c62490",
   "metadata": {},
   "source": [
    "Ahora reemplazamos la ecuación $(II)$ en la ecuación $(I)$: \n",
    "\n",
    "......."
   ]
  },
  {
   "cell_type": "markdown",
   "id": "c12f63f0-a795-4e90-9a2b-d8e36231604b",
   "metadata": {},
   "source": [
    "Finalmente obtenemos:\n",
    "\n",
    "$$\n",
    "\\begin{equation}\n",
    "|e_m| = \\left| \\frac{R_v}{\\sqrt{(R_v + R_g)^2 + (w R_g R_v C_t)^2}} - 1 \\right|\n",
    "\\end{equation}\n",
    "$$"
   ]
  },
  {
   "cell_type": "markdown",
   "id": "5f3d0143-ac6e-4d07-9bcc-1f1554169727",
   "metadata": {},
   "source": [
    "De los datos del ejercicio:\n",
    "\n",
    "- $C_c = C_d \\cdot l$\n",
    "- $C_t = C_c + C_v$"
   ]
  },
  {
   "cell_type": "code",
   "execution_count": 13,
   "id": "ffcf77cd-05dc-46a6-a145-e6454c1f0302",
   "metadata": {},
   "outputs": [
    {
     "name": "stdout",
     "output_type": "stream",
     "text": [
      "Valor de capacidad del coaxil: 1.50e-10 F\n",
      "Valor de la capacidad total del sistema: 3.70e-10 F\n"
     ]
    }
   ],
   "source": [
    "Cd = 2e-12             # [cm]\n",
    "l  = 75                # [cm]\n",
    "Cv = 220e-12           # [cm]\n",
    "Rv = 1e6               # [ohm]\n",
    "Rg = 600               # [ohm]\n",
    "w  = np.pi * 2 * 15e3     # [Hz]\n",
    "\n",
    "Cc = Cd * l\n",
    "Ct = Cc + Cv\n",
    "\n",
    "print(\"Valor de capacidad del coaxil: {:.2e} F\".format(Cc))\n",
    "print(\"Valor de la capacidad total del sistema: {:.2e} F\".format(Ct))"
   ]
  },
  {
   "cell_type": "code",
   "execution_count": 14,
   "id": "b0f71f13-5cfd-4783-b6b0-24b8bd142770",
   "metadata": {},
   "outputs": [
    {
     "name": "stdout",
     "output_type": "stream",
     "text": [
      "Valor del modulo del error de metodo: -0.0008180611802911519\n"
     ]
    }
   ],
   "source": [
    "den = np.sqrt( (Rv + Rg)** 2 + (w * Rv * Rg * Ct)**2 )\n",
    "em = ( Rv / den ) - 1\n",
    "\n",
    "print(\"Valor del modulo del error de metodo: {}\".format(em))"
   ]
  },
  {
   "cell_type": "markdown",
   "id": "1a4a0985-ab59-43bd-ba02-2f3afeae471f",
   "metadata": {},
   "source": [
    "## 5. Resolución analítica y numérica Item C) <a class=\"anchor\" id=\"5\"></a>"
   ]
  },
  {
   "cell_type": "markdown",
   "id": "671054da-0882-48ae-9cb3-da332cef60b6",
   "metadata": {},
   "source": [
    "La incertidumbre combinada del instrumentos es:\n",
    "\n",
    "$$\n",
    "u_c = \\sqrt{u^2_i + u^2_j}~~~~~~~con~~u_i = 0~~\\to~~u_c = u_j\n",
    "$$"
   ]
  },
  {
   "cell_type": "markdown",
   "id": "51473abc-ae5e-46b7-89ab-a35557d62e3f",
   "metadata": {},
   "source": [
    "Siendo el error tipo B:\n",
    "\n",
    "$$\n",
    "u_j = \\frac{a}{\\sqrt{3}}~~~~~~a = \\Delta V .err\\%~~~~~~err\\% = err_{med}\\% + err_{cont}\\%\n",
    "$$"
   ]
  },
  {
   "cell_type": "markdown",
   "id": "5d370cd7-e1f6-4717-a9d7-f0e34ac97f6a",
   "metadata": {},
   "source": [
    "$$\n",
    "err_{cont}\\% = \\frac{total~de~conteos}{valor~de~cuentas~del~instrumento}~.~100\\%\n",
    "$$"
   ]
  },
  {
   "cell_type": "code",
   "execution_count": 17,
   "id": "1deb28ba-b70e-4bd7-8fbe-a230d995ec86",
   "metadata": {},
   "outputs": [
    {
     "name": "stdout",
     "output_type": "stream",
     "text": [
      "Valor de la incertidumbre combinada: 0.0006513088386728169 V\n"
     ]
    }
   ],
   "source": [
    "CONTEOS = 2 * 100\n",
    "CUENTAS = 18562\n",
    "ERRM    = 0.05      # [%]\n",
    "VI      = 1.8562    # [V]\n",
    "\n",
    "errc = CONTEOS / CUENTAS\n",
    "err = errc + ERRM\n",
    "a = VI * err / 100\n",
    "uj = a / np.sqrt(3)\n",
    "\n",
    "print(\"Valor de la incertidumbre combinada: {} V\".format(uj))"
   ]
  },
  {
   "cell_type": "markdown",
   "id": "8fcf50e1-68b7-48ff-b9e0-58cb984d3fcb",
   "metadata": {},
   "source": [
    "Debido a que el valor del error de metodo no es 10 veces menor que el valor de la incertidumbre combinada es necesario realizar la correccion del valor verdadero.\n",
    "\n",
    "Siendo:\n",
    "\n",
    "$$\n",
    "V_{ic} = \\frac{V_i}{1 + e_m}\n",
    "$$"
   ]
  },
  {
   "cell_type": "markdown",
   "id": "b3d84042-1b06-4247-82f3-94e7b4b5e3c0",
   "metadata": {},
   "source": [
    "Donde su distribucion tiende a una normal con $k_{expansion} = 2$"
   ]
  },
  {
   "cell_type": "code",
   "execution_count": 19,
   "id": "e87d9613-8933-4908-8f7a-6e08e9614a9a",
   "metadata": {},
   "outputs": [
    {
     "name": "stdout",
     "output_type": "stream",
     "text": [
      "Valor verdadero: 1.85771972839366 V\n",
      "Valor de la incertidumbre expandida del valor verdadero: 0.0013026176773456338 V\n"
     ]
    }
   ],
   "source": [
    "K = 2\n",
    "\n",
    "vic = VI / (1 + em)\n",
    "u = K * uj\n",
    "\n",
    "print(\"Valor verdadero: {} V\".format(vic))\n",
    "print(\"Valor de la incertidumbre expandida del valor verdadero: {} V\".format(u))"
   ]
  },
  {
   "cell_type": "markdown",
   "id": "f4b8ae49-be92-4ece-8c89-91d89fccb511",
   "metadata": {},
   "source": [
    "Por lo tanto, la medicion del valor del generador es:\n",
    "\n",
    "$$\n",
    "V_g = (1,8577~;\\pm~0,0013)~V\n",
    "$$"
   ]
  }
 ],
 "metadata": {
  "kernelspec": {
   "display_name": "Python 3 (ipykernel)",
   "language": "python",
   "name": "python3"
  },
  "language_info": {
   "codemirror_mode": {
    "name": "ipython",
    "version": 3
   },
   "file_extension": ".py",
   "mimetype": "text/x-python",
   "name": "python",
   "nbconvert_exporter": "python",
   "pygments_lexer": "ipython3",
   "version": "3.12.4"
  }
 },
 "nbformat": 4,
 "nbformat_minor": 5
}
